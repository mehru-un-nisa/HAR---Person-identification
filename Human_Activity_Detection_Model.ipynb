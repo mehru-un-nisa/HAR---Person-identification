{
  "nbformat": 4,
  "nbformat_minor": 0,
  "metadata": {
    "colab": {
      "name": "Human Activity Detection Model.ipynb",
      "version": "0.3.2",
      "provenance": []
    },
    "language_info": {
      "codemirror_mode": {
        "name": "ipython",
        "version": 3
      },
      "file_extension": ".py",
      "mimetype": "text/x-python",
      "name": "python",
      "nbconvert_exporter": "python",
      "pygments_lexer": "ipython3",
      "version": "3.6.5"
    },
    "kernelspec": {
      "display_name": "Python 3",
      "language": "python",
      "name": "python3"
    }
  },
  "cells": [
    {
      "cell_type": "markdown",
      "metadata": {
        "id": "67A_qojJrCWF",
        "colab_type": "text"
      },
      "source": [
        "<h2 style = \"color:purple;\">Import Libraries</h2>"
      ]
    },
    {
      "cell_type": "code",
      "metadata": {
        "id": "EYGq4DWYrCWJ",
        "colab_type": "code",
        "colab": {},
        "outputId": "f08dd3a4-4d98-40ea-f871-15f2a04883d8"
      },
      "source": [
        "import numpy as np\n",
        "from numpy import dstack\n",
        "import pandas as pd\n",
        "import tensorflow as tf\n",
        "import keras\n",
        "from keras.layers.core import Dense\n",
        "from keras.optimizers import Adam\n",
        "from keras.metrics import categorical_crossentropy\n",
        "import sklearn as sk\n",
        "import sklearn.metrics.pairwise\n",
        "from sklearn.preprocessing import Normalizer\n",
        "from keras.models import Sequential\n",
        "from keras.layers import Dense, Dropout, Activation, Flatten\n",
        "from keras.layers import *\n",
        "from keras import metrics\n",
        "from keras import backend as K\n",
        "from pyts.image import RecurrencePlot\n",
        "import seaborn as sns\n",
        "import matplotlib.pyplot as plt\n",
        "%matplotlib inline"
      ],
      "execution_count": 0,
      "outputs": [
        {
          "output_type": "stream",
          "text": [
            "/anaconda3/lib/python3.6/site-packages/h5py/__init__.py:36: FutureWarning: Conversion of the second argument of issubdtype from `float` to `np.floating` is deprecated. In future, it will be treated as `np.float64 == np.dtype(float).type`.\n",
            "  from ._conv import register_converters as _register_converters\n",
            "Using TensorFlow backend.\n"
          ],
          "name": "stderr"
        }
      ]
    },
    {
      "cell_type": "markdown",
      "metadata": {
        "id": "FhhRaD_ErCWP",
        "colab_type": "text"
      },
      "source": [
        "<h2 style = \"color:purple;\">Data Ingestion</h2>\n",
        "\n",
        "Ideally, when working with multivariate time series data, it is useful to have the data structured in the format:\n",
        "** [samples, timesteps, features] ** \n",
        "<br>\n",
        "This is helpful for analysis and is the expectation of deep learning models such as convolutional neural networks and recurrent neural networks."
      ]
    },
    {
      "cell_type": "code",
      "metadata": {
        "id": "o6ag2HUxrCWQ",
        "colab_type": "code",
        "colab": {}
      },
      "source": [
        "# load a single file as a numpy array\n",
        "def load_file(filepath):\n",
        "\tdataframe = pd.read_csv(filepath, header=None, delim_whitespace=True)\n",
        "\treturn dataframe.values\n",
        " \n",
        "# load a list of files, such as x, y, z data for a given variable\n",
        "def load_group(filenames, prefix=''):\n",
        "\tloaded = list()\n",
        "\tfor name in filenames:\n",
        "\t\tdata = load_file(prefix + name)\n",
        "\t\tloaded.append(data)\n",
        "\t# stack group so that features are the 3rd dimension\n",
        "\tloaded = dstack(loaded)\n",
        "\treturn loaded\n",
        " \n",
        "# load a dataset group, such as train or test\n",
        "def load_dataset(group, prefix=''):\n",
        "\tfilepath = prefix + group + '/Inertial Signals/'\n",
        "\t# load all 9 files as a single array\n",
        "\tfilenames = list()\n",
        "\t# total acceleration\n",
        "\tfilenames += ['total_acc_x_'+group+'.txt', 'total_acc_y_'+group+'.txt', 'total_acc_z_'+group+'.txt']\n",
        "\t# body acceleration\n",
        "\tfilenames += ['body_acc_x_'+group+'.txt', 'body_acc_y_'+group+'.txt', 'body_acc_z_'+group+'.txt']\n",
        "\t# body gyroscope\n",
        "\tfilenames += ['body_gyro_x_'+group+'.txt', 'body_gyro_y_'+group+'.txt', 'body_gyro_z_'+group+'.txt']\n",
        "\t# load input data\n",
        "\tX = load_group(filenames, filepath)\n",
        "\t# load class output\n",
        "\ty = load_file(prefix + group + '/y_'+group+'.txt')\n",
        "\treturn X, y\n",
        "\n",
        "def load_dataset_2(group, prefix=''):\n",
        "\tfilepath = prefix + group + '/Inertial Signals/'\n",
        "\t# load all 9 files as a single array\n",
        "\tfilenames = list()\n",
        "\t# total acceleration\n",
        "\t#filenames += ['total_acc_x_'+group+'.txt', 'total_acc_y_'+group+'.txt', 'total_acc_z_'+group+'.txt']\n",
        "\t# body acceleration\n",
        "\tfilenames += ['body_acc_x_'+group+'.txt', 'body_acc_y_'+group+'.txt', 'body_acc_z_'+group+'.txt']\n",
        "\t# body gyroscope\n",
        "\tfilenames += ['body_gyro_x_'+group+'.txt', 'body_gyro_y_'+group+'.txt', 'body_gyro_z_'+group+'.txt']\n",
        "\t# load input data\n",
        "\tX = load_group(filenames, filepath)\n",
        "\t# load class output\n",
        "\ty = load_file(prefix + group + '/y_'+group+'.txt')\n",
        "\treturn X, y\n",
        " \n",
        "# load all train\n",
        "trainX, trainY = load_dataset('train', 'HARDataset/')\n",
        "# load all test\n",
        "testX, testY = load_dataset('test', 'HARDataset/')"
      ],
      "execution_count": 0,
      "outputs": []
    },
    {
      "cell_type": "markdown",
      "metadata": {
        "id": "NbFAyjP8rCWT",
        "colab_type": "text"
      },
      "source": [
        "## Preliminary Data Analysis"
      ]
    },
    {
      "cell_type": "code",
      "metadata": {
        "scrolled": true,
        "id": "tAFc_0-orCWU",
        "colab_type": "code",
        "colab": {},
        "outputId": "5849ae22-caa5-474f-a9d4-1439086faadb"
      },
      "source": [
        "print(\"trainX[samples,timesteps,features]:\",trainX.shape)"
      ],
      "execution_count": 0,
      "outputs": [
        {
          "output_type": "stream",
          "text": [
            "trainX[samples,timesteps,features]: (7352, 128, 9)\n"
          ],
          "name": "stdout"
        }
      ]
    },
    {
      "cell_type": "code",
      "metadata": {
        "id": "ZxpGJa3UrCWa",
        "colab_type": "code",
        "colab": {},
        "outputId": "d82b15fb-beb2-44fe-ffd1-c9360753b624"
      },
      "source": [
        "trainY.shape"
      ],
      "execution_count": 0,
      "outputs": [
        {
          "output_type": "execute_result",
          "data": {
            "text/plain": [
              "(7352, 1)"
            ]
          },
          "metadata": {
            "tags": []
          },
          "execution_count": 5
        }
      ]
    },
    {
      "cell_type": "code",
      "metadata": {
        "id": "4RemGpj_rCWe",
        "colab_type": "code",
        "colab": {},
        "outputId": "130f75bd-f023-4f93-d3bb-d20e6675734d"
      },
      "source": [
        "print(\"testX[samples,timesteps,features]:\",testX.shape)"
      ],
      "execution_count": 0,
      "outputs": [
        {
          "output_type": "stream",
          "text": [
            "testX[samples,timesteps,features]: (2947, 128, 9)\n"
          ],
          "name": "stdout"
        }
      ]
    },
    {
      "cell_type": "code",
      "metadata": {
        "id": "TPUwS7ugrCWi",
        "colab_type": "code",
        "colab": {},
        "outputId": "58737d6c-a999-4c09-ead0-481fca2605bb"
      },
      "source": [
        "testY.shape"
      ],
      "execution_count": 0,
      "outputs": [
        {
          "output_type": "execute_result",
          "data": {
            "text/plain": [
              "(2947, 1)"
            ]
          },
          "metadata": {
            "tags": []
          },
          "execution_count": 7
        }
      ]
    },
    {
      "cell_type": "markdown",
      "metadata": {
        "id": "T46f46xRrCWq",
        "colab_type": "text"
      },
      "source": [
        "### Class to label mapping\n",
        "* 1 -> Walking\n",
        "* 2 -> Walking Upstairs\n",
        "* 3 -> Walking Downstairs\n",
        "* 4 -> Sitting\n",
        "* 5 -> Standing\n",
        "* 6 -> Laying"
      ]
    },
    {
      "cell_type": "code",
      "metadata": {
        "id": "Lg7oLB86rCWs",
        "colab_type": "code",
        "colab": {}
      },
      "source": [
        "# summarize the balance of classes in an output variable column\n",
        "def class_breakdown(data):\n",
        "    # convert the numpy array into a dataframe\n",
        "    df = pd.DataFrame(data)\n",
        "    # group data by the class value and calculate the number of rows\n",
        "    counts = df.groupby(0).size()\n",
        "    # retrieve raw rows\n",
        "    counts = counts.values\n",
        "    # summarize\n",
        "    summary = []\n",
        "    for i in range(len(counts)):\n",
        "        percent = counts[i] / len(df) * 100\n",
        "        summary.append((i+1, counts[i], percent))\n",
        "    return summary"
      ],
      "execution_count": 0,
      "outputs": []
    },
    {
      "cell_type": "code",
      "metadata": {
        "id": "LJiCfNe6rCWx",
        "colab_type": "code",
        "colab": {},
        "outputId": "4b1df040-2dcc-4423-ec0a-e739d4e7369f"
      },
      "source": [
        "# load train file\n",
        "train_set = load_file('HARDataset/train/y_train.txt')\n",
        "summary_train_set = class_breakdown(train_set)\n",
        "# summarize class breakdown\n",
        "print('Train Dataset')\n",
        "summary_train_set"
      ],
      "execution_count": 0,
      "outputs": [
        {
          "output_type": "stream",
          "text": [
            "Train Dataset\n"
          ],
          "name": "stdout"
        },
        {
          "output_type": "execute_result",
          "data": {
            "text/plain": [
              "[(1, 1226, 16.675734494015234),\n",
              " (2, 1073, 14.594668117519042),\n",
              " (3, 986, 13.411316648531013),\n",
              " (4, 1286, 17.491838955386292),\n",
              " (5, 1374, 18.68879216539717),\n",
              " (6, 1407, 19.13764961915125)]"
            ]
          },
          "metadata": {
            "tags": []
          },
          "execution_count": 9
        }
      ]
    },
    {
      "cell_type": "code",
      "metadata": {
        "id": "cv3Q63qSrCW3",
        "colab_type": "code",
        "colab": {},
        "outputId": "01e83a46-b205-4fb6-f810-5bfcd7be08e3"
      },
      "source": [
        "# load test file\n",
        "test_set = load_file('HARDataset/test/y_test.txt')\n",
        "summary_test_set = class_breakdown(test_set)\n",
        "# summarize class breakdown\n",
        "print('Test Dataset')\n",
        "summary_test_set"
      ],
      "execution_count": 0,
      "outputs": [
        {
          "output_type": "stream",
          "text": [
            "Test Dataset\n"
          ],
          "name": "stdout"
        },
        {
          "output_type": "execute_result",
          "data": {
            "text/plain": [
              "[(1, 496, 16.830675262979298),\n",
              " (2, 471, 15.982354937224297),\n",
              " (3, 420, 14.251781472684085),\n",
              " (4, 491, 16.661011197828298),\n",
              " (5, 532, 18.052256532066508),\n",
              " (6, 537, 18.22192059721751)]"
            ]
          },
          "metadata": {
            "tags": []
          },
          "execution_count": 10
        }
      ]
    },
    {
      "cell_type": "markdown",
      "metadata": {
        "id": "138bU9jjrCW9",
        "colab_type": "text"
      },
      "source": [
        "<h3 style = \"color:blue;\">Visualize Class Distribution</h3>"
      ]
    },
    {
      "cell_type": "markdown",
      "metadata": {
        "id": "6EdOfZsxrCW_",
        "colab_type": "text"
      },
      "source": [
        "#### Train Set"
      ]
    },
    {
      "cell_type": "code",
      "metadata": {
        "id": "BAGCq0YHrCXA",
        "colab_type": "code",
        "colab": {}
      },
      "source": [
        "summary_train_set = np.array(summary_train_set)"
      ],
      "execution_count": 0,
      "outputs": []
    },
    {
      "cell_type": "code",
      "metadata": {
        "scrolled": true,
        "id": "tko5k24NrCXC",
        "colab_type": "code",
        "colab": {},
        "outputId": "f81b3e3a-2eb1-417f-911e-e11863f638ce"
      },
      "source": [
        "plt.figure(figsize=(8,5))\n",
        "plt.title(\"Training Set\")\n",
        "plt.xlabel(\"Class\")\n",
        "plt.ylabel(\"Number of Samples\")\n",
        "sns.barplot(np.array(summary_train_set[:,0],dtype=np.int32),summary_train_set[:,1], palette=\"hls\")\n",
        "plt.show()"
      ],
      "execution_count": 0,
      "outputs": [
        {
          "output_type": "display_data",
          "data": {
            "image/png": "[encoded data removed]",
            "text/plain": [
              "<Figure size 576x360 with 1 Axes>"
            ]
          },
          "metadata": {
            "tags": []
          }
        }
      ]
    },
    {
      "cell_type": "code",
      "metadata": {
        "id": "-W4ZmeI2rCXG",
        "colab_type": "code",
        "colab": {},
        "outputId": "ab786456-be90-426a-ddc1-227c80998f5b"
      },
      "source": [
        "plt.figure(figsize=(8,5))\n",
        "plt.title(\"Training Set\")\n",
        "plt.xlabel(\"Class\")\n",
        "plt.ylabel(\"% of Samples\")\n",
        "sns.barplot(np.array(summary_train_set[:,0],dtype=np.int32),summary_train_set[:,2], palette=\"Blues\")\n",
        "plt.show()"
      ],
      "execution_count": 0,
      "outputs": [
        {
          "output_type": "display_data",
          "data": {
            "image/png": "[encoded data removed]",
            "text/plain": [
              "<Figure size 576x360 with 1 Axes>"
            ]
          },
          "metadata": {
            "tags": []
          }
        }
      ]
    },
    {
      "cell_type": "markdown",
      "metadata": {
        "id": "l-PpFZ2crCXN",
        "colab_type": "text"
      },
      "source": [
        "#### Test Set"
      ]
    },
    {
      "cell_type": "code",
      "metadata": {
        "id": "tsarUU5lrCXO",
        "colab_type": "code",
        "colab": {}
      },
      "source": [
        "summary_test_set = np.array(summary_test_set)"
      ],
      "execution_count": 0,
      "outputs": []
    },
    {
      "cell_type": "code",
      "metadata": {
        "id": "ssZN2Y8RrCXS",
        "colab_type": "code",
        "colab": {},
        "outputId": "448ba04d-b6ba-411f-8bf3-3e2677a6e102"
      },
      "source": [
        "plt.figure(figsize=(8,5))\n",
        "plt.title(\"Testing Set\")\n",
        "plt.xlabel(\"Class\")\n",
        "plt.ylabel(\"Number of Samples\")\n",
        "sns.barplot(np.array(summary_test_set[:,0],dtype=np.int32),summary_test_set[:,1])\n",
        "plt.show()"
      ],
      "execution_count": 0,
      "outputs": [
        {
          "output_type": "display_data",
          "data": {
            "image/png": "[encoded data removed]",
            "text/plain": [
              "<Figure size 576x360 with 1 Axes>"
            ]
          },
          "metadata": {
            "tags": []
          }
        }
      ]
    },
    {
      "cell_type": "code",
      "metadata": {
        "id": "ZI6740URrCXX",
        "colab_type": "code",
        "colab": {},
        "outputId": "66b49a7e-78b9-4040-bac0-3627418d40c3"
      },
      "source": [
        "plt.figure(figsize=(8,5))\n",
        "plt.title(\"Testing Set\")\n",
        "plt.xlabel(\"Class\")\n",
        "plt.ylabel(\"% of Samples\")\n",
        "sns.barplot(np.array(summary_test_set[:,0],dtype=np.int32),summary_test_set[:,2],palette=\"Greens\" )\n",
        "plt.show()"
      ],
      "execution_count": 0,
      "outputs": [
        {
          "output_type": "display_data",
          "data": {
            "image/png": "[encoded data removed]",
            "text/plain": [
              "<Figure size 576x360 with 1 Axes>"
            ]
          },
          "metadata": {
            "tags": []
          }
        }
      ]
    },
    {
      "cell_type": "markdown",
      "metadata": {
        "id": "3W6Ny8IvrCXd",
        "colab_type": "text"
      },
      "source": [
        "<h2 style = \"color:purple;\">Model 1: Neural Network</h2>"
      ]
    },
    {
      "cell_type": "code",
      "metadata": {
        "id": "fmAJjsq1rCXe",
        "colab_type": "code",
        "colab": {}
      },
      "source": [
        "def accuracy(pred_labels,true_labels):\n",
        "    return np.sum((pred_classes-flattened_testY == 0) *1)/pred_labels.shape[0]"
      ],
      "execution_count": 0,
      "outputs": []
    },
    {
      "cell_type": "code",
      "metadata": {
        "id": "aSsJwy5srCXj",
        "colab_type": "code",
        "colab": {}
      },
      "source": [
        "# load all train\n",
        "trainX, trainY = load_dataset('train', 'HARDataset/')\n",
        "# load all test\n",
        "testX, testY = load_dataset('test', 'HARDataset/')"
      ],
      "execution_count": 0,
      "outputs": []
    },
    {
      "cell_type": "code",
      "metadata": {
        "id": "qzEfLdSnrCXp",
        "colab_type": "code",
        "colab": {}
      },
      "source": [
        "flattened_trainX = []"
      ],
      "execution_count": 0,
      "outputs": []
    },
    {
      "cell_type": "code",
      "metadata": {
        "id": "VVuup6mKrCXu",
        "colab_type": "code",
        "colab": {}
      },
      "source": [
        "for i in range(trainX.shape[0]):\n",
        "    flattened_trainX.append(trainX[i].flatten())"
      ],
      "execution_count": 0,
      "outputs": []
    },
    {
      "cell_type": "code",
      "metadata": {
        "id": "avPDbrLdrCX0",
        "colab_type": "code",
        "colab": {}
      },
      "source": [
        "flattened_trainX = np.array(flattened_trainX)"
      ],
      "execution_count": 0,
      "outputs": []
    },
    {
      "cell_type": "code",
      "metadata": {
        "id": "zoSA_Rt1rCX4",
        "colab_type": "code",
        "colab": {}
      },
      "source": [
        "flattened_trainY = trainY.flatten()"
      ],
      "execution_count": 0,
      "outputs": []
    },
    {
      "cell_type": "code",
      "metadata": {
        "id": "Ga9_3hWtrCX7",
        "colab_type": "code",
        "colab": {},
        "outputId": "ad880b71-94a5-4384-d983-cd9591698079"
      },
      "source": [
        "flattened_trainY.shape"
      ],
      "execution_count": 0,
      "outputs": [
        {
          "output_type": "execute_result",
          "data": {
            "text/plain": [
              "(7352,)"
            ]
          },
          "metadata": {
            "tags": []
          },
          "execution_count": 45
        }
      ]
    },
    {
      "cell_type": "code",
      "metadata": {
        "id": "jHDApSLZrCYA",
        "colab_type": "code",
        "colab": {},
        "outputId": "d10f6d23-37e6-483d-8941-f1f91b5618b0"
      },
      "source": [
        "model = Sequential([\n",
        "    Dense(units=528,input_shape = (128*9,),activation='relu'),\n",
        "    Dense(units=256,activation='relu'),\n",
        "    Dense(units=7,activation='softmax',)\n",
        "])"
      ],
      "execution_count": 0,
      "outputs": [
        {
          "output_type": "stream",
          "text": [
            "WARNING:tensorflow:From /anaconda3/lib/python3.6/site-packages/tensorflow/python/framework/op_def_library.py:263: colocate_with (from tensorflow.python.framework.ops) is deprecated and will be removed in a future version.\n",
            "Instructions for updating:\n",
            "Colocations handled automatically by placer.\n"
          ],
          "name": "stdout"
        }
      ]
    },
    {
      "cell_type": "code",
      "metadata": {
        "id": "Wb6_zf-rrCYF",
        "colab_type": "code",
        "colab": {},
        "outputId": "20e9f4e1-7519-457c-a504-104f923dc037"
      },
      "source": [
        "model.summary()"
      ],
      "execution_count": 0,
      "outputs": [
        {
          "output_type": "stream",
          "text": [
            "_________________________________________________________________\n",
            "Layer (type)                 Output Shape              Param #   \n",
            "=================================================================\n",
            "dense_1 (Dense)              (None, 528)               608784    \n",
            "_________________________________________________________________\n",
            "dense_2 (Dense)              (None, 256)               135424    \n",
            "_________________________________________________________________\n",
            "dense_3 (Dense)              (None, 7)                 1799      \n",
            "=================================================================\n",
            "Total params: 746,007\n",
            "Trainable params: 746,007\n",
            "Non-trainable params: 0\n",
            "_________________________________________________________________\n"
          ],
          "name": "stdout"
        }
      ]
    },
    {
      "cell_type": "code",
      "metadata": {
        "id": "dBCMVwgArCYI",
        "colab_type": "code",
        "colab": {}
      },
      "source": [
        "model.compile(optimizer=Adam(lr=0.0001),loss='sparse_categorical_crossentropy',metrics=['accuracy'])"
      ],
      "execution_count": 0,
      "outputs": []
    },
    {
      "cell_type": "code",
      "metadata": {
        "id": "Gfvpsks5rCYK",
        "colab_type": "code",
        "colab": {},
        "outputId": "8cf0765e-7e92-4189-b65d-96b5355acc0c"
      },
      "source": [
        "model.fit(x=flattened_trainX,y=flattened_trainY,batch_size=20,epochs=25,verbose=2)"
      ],
      "execution_count": 0,
      "outputs": [
        {
          "output_type": "stream",
          "text": [
            "WARNING:tensorflow:From /anaconda3/lib/python3.6/site-packages/tensorflow/python/ops/math_ops.py:3066: to_int32 (from tensorflow.python.ops.math_ops) is deprecated and will be removed in a future version.\n",
            "Instructions for updating:\n",
            "Use tf.cast instead.\n",
            "Epoch 1/25\n",
            " - 2s - loss: 1.2044 - acc: 0.5528\n",
            "Epoch 2/25\n",
            " - 2s - loss: 0.6711 - acc: 0.7879\n",
            "Epoch 3/25\n",
            " - 2s - loss: 0.4577 - acc: 0.8584\n",
            "Epoch 4/25\n",
            " - 2s - loss: 0.3497 - acc: 0.8909\n",
            "Epoch 5/25\n",
            " - 2s - loss: 0.2804 - acc: 0.9082\n",
            "Epoch 6/25\n",
            " - 2s - loss: 0.2323 - acc: 0.9237\n",
            "Epoch 7/25\n",
            " - 2s - loss: 0.2003 - acc: 0.9340\n",
            "Epoch 8/25\n",
            " - 2s - loss: 0.1772 - acc: 0.9404\n",
            "Epoch 9/25\n",
            " - 2s - loss: 0.1596 - acc: 0.9445\n",
            "Epoch 10/25\n",
            " - 2s - loss: 0.1456 - acc: 0.9489\n",
            "Epoch 11/25\n",
            " - 2s - loss: 0.1352 - acc: 0.9514\n",
            "Epoch 12/25\n",
            " - 2s - loss: 0.1265 - acc: 0.9531\n",
            "Epoch 13/25\n",
            " - 3s - loss: 0.1203 - acc: 0.9539\n",
            "Epoch 14/25\n",
            " - 3s - loss: 0.1158 - acc: 0.9535\n",
            "Epoch 15/25\n",
            " - 2s - loss: 0.1113 - acc: 0.9542\n",
            "Epoch 16/25\n",
            " - 2s - loss: 0.1074 - acc: 0.9557\n",
            "Epoch 17/25\n",
            " - 2s - loss: 0.1045 - acc: 0.9561\n",
            "Epoch 18/25\n",
            " - 2s - loss: 0.1016 - acc: 0.9569\n",
            "Epoch 19/25\n",
            " - 2s - loss: 0.1011 - acc: 0.9581\n",
            "Epoch 20/25\n",
            " - 2s - loss: 0.0977 - acc: 0.9572\n",
            "Epoch 21/25\n",
            " - 2s - loss: 0.0970 - acc: 0.9578\n",
            "Epoch 22/25\n",
            " - 2s - loss: 0.0954 - acc: 0.9584\n",
            "Epoch 23/25\n",
            " - 2s - loss: 0.0927 - acc: 0.9593\n",
            "Epoch 24/25\n",
            " - 2s - loss: 0.0907 - acc: 0.9603\n",
            "Epoch 25/25\n",
            " - 2s - loss: 0.0894 - acc: 0.9611\n"
          ],
          "name": "stdout"
        },
        {
          "output_type": "execute_result",
          "data": {
            "text/plain": [
              "<keras.callbacks.History at 0x1a29c8f4a8>"
            ]
          },
          "metadata": {
            "tags": []
          },
          "execution_count": 49
        }
      ]
    },
    {
      "cell_type": "code",
      "metadata": {
        "id": "3bDe5AIWrCYQ",
        "colab_type": "code",
        "colab": {}
      },
      "source": [
        "flattened_testX = []"
      ],
      "execution_count": 0,
      "outputs": []
    },
    {
      "cell_type": "code",
      "metadata": {
        "id": "goErZh92rCYV",
        "colab_type": "code",
        "colab": {}
      },
      "source": [
        "for i in range(testX.shape[0]):\n",
        "    flattened_testX.append(testX[i].flatten())"
      ],
      "execution_count": 0,
      "outputs": []
    },
    {
      "cell_type": "code",
      "metadata": {
        "id": "XpMEmvuzrCYX",
        "colab_type": "code",
        "colab": {},
        "outputId": "cf4696b3-e840-4b2b-b62c-c6e3b73ca09e"
      },
      "source": [
        "flattened_testX = np.array(flattened_testX)\n",
        "flattened_testX.shape"
      ],
      "execution_count": 0,
      "outputs": [
        {
          "output_type": "execute_result",
          "data": {
            "text/plain": [
              "(2947, 1152)"
            ]
          },
          "metadata": {
            "tags": []
          },
          "execution_count": 52
        }
      ]
    },
    {
      "cell_type": "code",
      "metadata": {
        "id": "aaHpxZS6rCYa",
        "colab_type": "code",
        "colab": {},
        "outputId": "9cc91d80-450f-418a-bcc6-81e21cfebbf3"
      },
      "source": [
        "flattened_testY = testY.flatten()\n",
        "flattened_testY.shape"
      ],
      "execution_count": 0,
      "outputs": [
        {
          "output_type": "execute_result",
          "data": {
            "text/plain": [
              "(2947,)"
            ]
          },
          "metadata": {
            "tags": []
          },
          "execution_count": 55
        }
      ]
    },
    {
      "cell_type": "code",
      "metadata": {
        "id": "RVY6ZsAvrCYj",
        "colab_type": "code",
        "colab": {},
        "outputId": "762639c6-1dd9-4a8a-c0bb-3a2c1a01dda6"
      },
      "source": [
        "model.evaluate(x=flattened_testX,y=flattened_testY,batch_size=20,verbose=2)"
      ],
      "execution_count": 0,
      "outputs": [
        {
          "output_type": "execute_result",
          "data": {
            "text/plain": [
              "[0.5084983058316386, 0.8856464197494477]"
            ]
          },
          "metadata": {
            "tags": []
          },
          "execution_count": 56
        }
      ]
    },
    {
      "cell_type": "code",
      "metadata": {
        "id": "XVqFvqz8rCYm",
        "colab_type": "code",
        "colab": {},
        "outputId": "3dbf8118-238a-45af-e130-8c2158cb6759"
      },
      "source": [
        "pred_classes = model.predict_classes(x=flattened_testX)\n",
        "pred_classes"
      ],
      "execution_count": 0,
      "outputs": [
        {
          "output_type": "execute_result",
          "data": {
            "text/plain": [
              "array([5, 5, 5, ..., 2, 2, 2])"
            ]
          },
          "metadata": {
            "tags": []
          },
          "execution_count": 57
        }
      ]
    },
    {
      "cell_type": "code",
      "metadata": {
        "id": "nLT9oqlOrCYw",
        "colab_type": "code",
        "colab": {},
        "outputId": "4409917d-c5f1-44cc-d73f-2062ba0a7476"
      },
      "source": [
        "accuracy(pred_classes,flattened_testY)"
      ],
      "execution_count": 0,
      "outputs": [
        {
          "output_type": "execute_result",
          "data": {
            "text/plain": [
              "0.8856464200882254"
            ]
          },
          "metadata": {
            "tags": []
          },
          "execution_count": 58
        }
      ]
    },
    {
      "cell_type": "markdown",
      "metadata": {
        "id": "t11AYNbLrCY2",
        "colab_type": "text"
      },
      "source": [
        "### Training on 128*6"
      ]
    },
    {
      "cell_type": "code",
      "metadata": {
        "id": "u8FI-nevrCY4",
        "colab_type": "code",
        "colab": {}
      },
      "source": [
        "# load all train\n",
        "trainX, trainY = load_dataset_2('train', 'HARDataset/')\n",
        "#load all test\n",
        "testX, testY = load_dataset_2('test', 'HARDataset/')"
      ],
      "execution_count": 0,
      "outputs": []
    },
    {
      "cell_type": "code",
      "metadata": {
        "id": "Uw6Dc_HlrCY7",
        "colab_type": "code",
        "colab": {}
      },
      "source": [
        "flattened_trainX = []"
      ],
      "execution_count": 0,
      "outputs": []
    },
    {
      "cell_type": "code",
      "metadata": {
        "id": "TAdeeMw4rCZD",
        "colab_type": "code",
        "colab": {}
      },
      "source": [
        "for i in range(trainX.shape[0]):\n",
        "    flattened_trainX.append(trainX[i].flatten())"
      ],
      "execution_count": 0,
      "outputs": []
    },
    {
      "cell_type": "code",
      "metadata": {
        "id": "ZVdKN5dprCZU",
        "colab_type": "code",
        "colab": {}
      },
      "source": [
        "flattened_trainX = np.array(flattened_trainX)"
      ],
      "execution_count": 0,
      "outputs": []
    },
    {
      "cell_type": "code",
      "metadata": {
        "id": "62UwOwIbrCZV",
        "colab_type": "code",
        "colab": {},
        "outputId": "f6434531-139a-4d54-b1a5-0f1049c1dfd1"
      },
      "source": [
        "flattened_trainX.shape"
      ],
      "execution_count": 0,
      "outputs": [
        {
          "output_type": "execute_result",
          "data": {
            "text/plain": [
              "(7352, 768)"
            ]
          },
          "metadata": {
            "tags": []
          },
          "execution_count": 311
        }
      ]
    },
    {
      "cell_type": "code",
      "metadata": {
        "id": "4GHIpD0ErCZd",
        "colab_type": "code",
        "colab": {}
      },
      "source": [
        "flattened_trainY = trainY.flatten()"
      ],
      "execution_count": 0,
      "outputs": []
    },
    {
      "cell_type": "code",
      "metadata": {
        "id": "SYX6hc18rCZh",
        "colab_type": "code",
        "colab": {},
        "outputId": "7437856f-1bc8-487a-b38e-e579094c0a88"
      },
      "source": [
        "flattened_trainY.shape"
      ],
      "execution_count": 0,
      "outputs": [
        {
          "output_type": "execute_result",
          "data": {
            "text/plain": [
              "(7352,)"
            ]
          },
          "metadata": {
            "tags": []
          },
          "execution_count": 313
        }
      ]
    },
    {
      "cell_type": "code",
      "metadata": {
        "id": "QkjpxkeVrCZk",
        "colab_type": "code",
        "colab": {}
      },
      "source": [
        "model = Sequential([\n",
        "    Dense(units=528,input_shape = (128*6,),activation='relu'),\n",
        "    Dense(units=256,activation='relu'),\n",
        "    Dense(units=7,activation='softmax',)\n",
        "])"
      ],
      "execution_count": 0,
      "outputs": []
    },
    {
      "cell_type": "code",
      "metadata": {
        "id": "vf1jNDN-rCZm",
        "colab_type": "code",
        "colab": {},
        "outputId": "b2c57ca3-fec7-415c-b3bf-7de43c007457"
      },
      "source": [
        "model.summary()"
      ],
      "execution_count": 0,
      "outputs": [
        {
          "output_type": "stream",
          "text": [
            "_________________________________________________________________\n",
            "Layer (type)                 Output Shape              Param #   \n",
            "=================================================================\n",
            "dense_52 (Dense)             (None, 528)               406032    \n",
            "_________________________________________________________________\n",
            "dense_53 (Dense)             (None, 256)               135424    \n",
            "_________________________________________________________________\n",
            "dense_54 (Dense)             (None, 7)                 1799      \n",
            "=================================================================\n",
            "Total params: 543,255\n",
            "Trainable params: 543,255\n",
            "Non-trainable params: 0\n",
            "_________________________________________________________________\n"
          ],
          "name": "stdout"
        }
      ]
    },
    {
      "cell_type": "code",
      "metadata": {
        "id": "E1LmOdIXrCZw",
        "colab_type": "code",
        "colab": {}
      },
      "source": [
        "model.compile(optimizer=Adam(lr=0.001),loss='sparse_categorical_crossentropy',metrics=['accuracy'])"
      ],
      "execution_count": 0,
      "outputs": []
    },
    {
      "cell_type": "code",
      "metadata": {
        "id": "WUwt_BLzrCZy",
        "colab_type": "code",
        "colab": {},
        "outputId": "cf7cb08f-b0cd-4eb1-a529-6b4cc0f5e7a8"
      },
      "source": [
        "model.fit(x=flattened_trainX,y=flattened_trainY,batch_size=20,epochs=20,verbose=2)"
      ],
      "execution_count": 0,
      "outputs": [
        {
          "output_type": "stream",
          "text": [
            "Epoch 1/20\n",
            " - 3s - loss: 0.8585 - acc: 0.5853\n",
            "Epoch 2/20\n",
            " - 2s - loss: 0.5605 - acc: 0.7246\n",
            "Epoch 3/20\n",
            " - 2s - loss: 0.4648 - acc: 0.7916\n",
            "Epoch 4/20\n",
            " - 2s - loss: 0.4114 - acc: 0.8271\n",
            "Epoch 5/20\n",
            " - 2s - loss: 0.3157 - acc: 0.8740\n",
            "Epoch 6/20\n",
            " - 2s - loss: 0.2835 - acc: 0.8913\n",
            "Epoch 7/20\n",
            " - 2s - loss: 0.2132 - acc: 0.9230\n",
            "Epoch 8/20\n",
            " - 2s - loss: 0.1926 - acc: 0.9355\n",
            "Epoch 9/20\n",
            " - 2s - loss: 0.1453 - acc: 0.9484\n",
            "Epoch 10/20\n",
            " - 2s - loss: 0.1409 - acc: 0.9577\n",
            "Epoch 11/20\n",
            " - 2s - loss: 0.1082 - acc: 0.9693\n",
            "Epoch 12/20\n",
            " - 2s - loss: 0.0856 - acc: 0.9733\n",
            "Epoch 13/20\n",
            " - 2s - loss: 0.0831 - acc: 0.9793\n",
            "Epoch 14/20\n",
            " - 2s - loss: 0.0945 - acc: 0.9818\n",
            "Epoch 15/20\n",
            " - 2s - loss: 0.0708 - acc: 0.9830\n",
            "Epoch 16/20\n",
            " - 2s - loss: 0.0768 - acc: 0.9825\n",
            "Epoch 17/20\n",
            " - 2s - loss: 0.0394 - acc: 0.9927\n",
            "Epoch 18/20\n",
            " - 2s - loss: 0.0454 - acc: 0.9925\n",
            "Epoch 19/20\n",
            " - 2s - loss: 0.0172 - acc: 0.9980\n",
            "Epoch 20/20\n",
            " - 2s - loss: 0.0546 - acc: 0.9894\n"
          ],
          "name": "stdout"
        },
        {
          "output_type": "execute_result",
          "data": {
            "text/plain": [
              "<keras.callbacks.History at 0x1a452b44a8>"
            ]
          },
          "metadata": {
            "tags": []
          },
          "execution_count": 321
        }
      ]
    },
    {
      "cell_type": "code",
      "metadata": {
        "id": "-XGHkxjQrCZ3",
        "colab_type": "code",
        "colab": {},
        "outputId": "ed469ec1-8a87-4ee3-83c6-7b4a81deb362"
      },
      "source": [
        "testX.shape"
      ],
      "execution_count": 0,
      "outputs": [
        {
          "output_type": "execute_result",
          "data": {
            "text/plain": [
              "(2947, 128, 6)"
            ]
          },
          "metadata": {
            "tags": []
          },
          "execution_count": 322
        }
      ]
    },
    {
      "cell_type": "code",
      "metadata": {
        "id": "LK-96V5CrCZ8",
        "colab_type": "code",
        "colab": {},
        "outputId": "015e8351-653a-4772-f4f3-eaf28de84f0f"
      },
      "source": [
        "testY.shape"
      ],
      "execution_count": 0,
      "outputs": [
        {
          "output_type": "execute_result",
          "data": {
            "text/plain": [
              "(2947, 1)"
            ]
          },
          "metadata": {
            "tags": []
          },
          "execution_count": 323
        }
      ]
    },
    {
      "cell_type": "code",
      "metadata": {
        "id": "8Azvi6ggrCaA",
        "colab_type": "code",
        "colab": {}
      },
      "source": [
        "flattened_testX = []"
      ],
      "execution_count": 0,
      "outputs": []
    },
    {
      "cell_type": "code",
      "metadata": {
        "id": "Vc3UiRk0rCaD",
        "colab_type": "code",
        "colab": {}
      },
      "source": [
        "for i in range(testX.shape[0]):\n",
        "    flattened_testX.append(testX[i].flatten())"
      ],
      "execution_count": 0,
      "outputs": []
    },
    {
      "cell_type": "code",
      "metadata": {
        "id": "pzI4Dw04rCaF",
        "colab_type": "code",
        "colab": {},
        "outputId": "41dc2003-dac0-4174-f3a7-00a5f2a5d93c"
      },
      "source": [
        "flattened_testX = np.array(flattened_testX)\n",
        "flattened_testX.shape"
      ],
      "execution_count": 0,
      "outputs": [
        {
          "output_type": "execute_result",
          "data": {
            "text/plain": [
              "(2947, 768)"
            ]
          },
          "metadata": {
            "tags": []
          },
          "execution_count": 326
        }
      ]
    },
    {
      "cell_type": "code",
      "metadata": {
        "id": "jN8Lb16UrCaH",
        "colab_type": "code",
        "colab": {},
        "outputId": "582f5cfc-f518-48ee-be1d-bfbef73f528c"
      },
      "source": [
        "flattened_testY = testY.flatten()\n",
        "flattened_testY.shape"
      ],
      "execution_count": 0,
      "outputs": [
        {
          "output_type": "execute_result",
          "data": {
            "text/plain": [
              "(2947,)"
            ]
          },
          "metadata": {
            "tags": []
          },
          "execution_count": 327
        }
      ]
    },
    {
      "cell_type": "code",
      "metadata": {
        "id": "_d0iuoCCrCaK",
        "colab_type": "code",
        "colab": {},
        "outputId": "6b830249-ed81-4965-c876-6952ba471c7e"
      },
      "source": [
        "model.evaluate(x=flattened_testX,y=flattened_testY,batch_size=20,verbose=2)"
      ],
      "execution_count": 0,
      "outputs": [
        {
          "output_type": "execute_result",
          "data": {
            "text/plain": [
              "[1.0514582624057174, 0.8388191366654798]"
            ]
          },
          "metadata": {
            "tags": []
          },
          "execution_count": 328
        }
      ]
    },
    {
      "cell_type": "code",
      "metadata": {
        "id": "mTVVyg4RrCaN",
        "colab_type": "code",
        "colab": {},
        "outputId": "61bfaad5-847f-455b-b33e-436b94b84ccd"
      },
      "source": [
        "pred_classes = model.predict_classes(x=flattened_testX)\n",
        "pred_classes"
      ],
      "execution_count": 0,
      "outputs": [
        {
          "output_type": "execute_result",
          "data": {
            "text/plain": [
              "array([5, 5, 4, ..., 2, 2, 2])"
            ]
          },
          "metadata": {
            "tags": []
          },
          "execution_count": 329
        }
      ]
    },
    {
      "cell_type": "code",
      "metadata": {
        "id": "vKNt-SrmrCaQ",
        "colab_type": "code",
        "colab": {},
        "outputId": "ef184b14-5e51-4639-e461-eaed9bbbd779"
      },
      "source": [
        "accuracy(pred_classes,flattened_testY)"
      ],
      "execution_count": 0,
      "outputs": [
        {
          "output_type": "execute_result",
          "data": {
            "text/plain": [
              "0.8388191381065491"
            ]
          },
          "metadata": {
            "tags": []
          },
          "execution_count": 330
        }
      ]
    },
    {
      "cell_type": "markdown",
      "metadata": {
        "id": "lKq40X2vrCaV",
        "colab_type": "text"
      },
      "source": [
        "### Saving the model "
      ]
    },
    {
      "cell_type": "code",
      "metadata": {
        "id": "EWfJt1-vrCaW",
        "colab_type": "code",
        "colab": {},
        "outputId": "29eed35a-83ca-46f2-cedd-16a08010fad7"
      },
      "source": [
        "# Save tf.keras model in HDF5 format.\n",
        "keras_file = \"keras_model.h5\"\n",
        "keras.models.save_model(model,keras_file)\n",
        "\n",
        "# Convert to TensorFlow Lite model.\n",
        "converter = tf.lite.TFLiteConverter.from_keras_model_file(keras_file)\n",
        "tflite_model = converter.convert()\n",
        "open(\"converted_model.tflite\", \"wb\").write(tflite_model)"
      ],
      "execution_count": 0,
      "outputs": [
        {
          "output_type": "stream",
          "text": [
            "INFO:tensorflow:Froze 6 variables.\n",
            "INFO:tensorflow:Converted 6 variables to const ops.\n"
          ],
          "name": "stdout"
        },
        {
          "output_type": "execute_result",
          "data": {
            "text/plain": [
              "2174400"
            ]
          },
          "metadata": {
            "tags": []
          },
          "execution_count": 61
        }
      ]
    },
    {
      "cell_type": "markdown",
      "metadata": {
        "id": "MtS76xAprCaY",
        "colab_type": "text"
      },
      "source": [
        "<h2 style = \"color:purple;\">Model 2: Neural Network with normalized data</h2>"
      ]
    },
    {
      "cell_type": "markdown",
      "metadata": {
        "id": "zryBXEXSrCaZ",
        "colab_type": "text"
      },
      "source": [
        "### Training on 128*6\n"
      ]
    },
    {
      "cell_type": "code",
      "metadata": {
        "id": "Fkyo1f-QrCaa",
        "colab_type": "code",
        "colab": {}
      },
      "source": [
        "# load all train\n",
        "trainX, trainY = load_dataset_2('train', 'HARDataset/')\n",
        "#load all test\n",
        "testX, testY = load_dataset_2('test', 'HARDataset/')"
      ],
      "execution_count": 0,
      "outputs": []
    },
    {
      "cell_type": "code",
      "metadata": {
        "id": "Ab_hmTTzrCac",
        "colab_type": "code",
        "colab": {}
      },
      "source": [
        "flattened_trainX = []"
      ],
      "execution_count": 0,
      "outputs": []
    },
    {
      "cell_type": "code",
      "metadata": {
        "id": "2t9NZxgOrCaf",
        "colab_type": "code",
        "colab": {}
      },
      "source": [
        "for i in range(trainX.shape[0]):\n",
        "    flattened_trainX.append(trainX[i].flatten())"
      ],
      "execution_count": 0,
      "outputs": []
    },
    {
      "cell_type": "code",
      "metadata": {
        "id": "gsdLiKo_rCag",
        "colab_type": "code",
        "colab": {}
      },
      "source": [
        "flattened_trainX = np.array(flattened_trainX)"
      ],
      "execution_count": 0,
      "outputs": []
    },
    {
      "cell_type": "code",
      "metadata": {
        "id": "UxvtLWSRrCai",
        "colab_type": "code",
        "colab": {}
      },
      "source": [
        "transformer = Normalizer().fit(flattened_trainX)\n",
        "normalized_trainX = transformer.transform(flattened_trainX)"
      ],
      "execution_count": 0,
      "outputs": []
    },
    {
      "cell_type": "code",
      "metadata": {
        "id": "IXl6_52FrCak",
        "colab_type": "code",
        "colab": {},
        "outputId": "3c3f7915-35f3-4f20-a9cf-8bf4ba824d60"
      },
      "source": [
        "normalized_trainX.shape"
      ],
      "execution_count": 0,
      "outputs": [
        {
          "output_type": "execute_result",
          "data": {
            "text/plain": [
              "(7352, 768)"
            ]
          },
          "metadata": {
            "tags": []
          },
          "execution_count": 359
        }
      ]
    },
    {
      "cell_type": "code",
      "metadata": {
        "id": "rI0tymrarCap",
        "colab_type": "code",
        "colab": {},
        "outputId": "43a4929b-277f-4504-d927-458deb3788e8"
      },
      "source": [
        "print('max:',np.max(normalized_trainX))\n",
        "print('min:',np.min(normalized_trainX))    "
      ],
      "execution_count": 0,
      "outputs": [
        {
          "output_type": "stream",
          "text": [
            "max: 0.6007866295758303\n",
            "min: -0.47793295754512694\n"
          ],
          "name": "stdout"
        }
      ]
    },
    {
      "cell_type": "code",
      "metadata": {
        "id": "BYzNWf8LrCau",
        "colab_type": "code",
        "colab": {}
      },
      "source": [
        "flattened_trainY = trainY.flatten()"
      ],
      "execution_count": 0,
      "outputs": []
    },
    {
      "cell_type": "code",
      "metadata": {
        "id": "KRwop60WrCax",
        "colab_type": "code",
        "colab": {},
        "outputId": "9ecf2fe8-064e-4bc2-8dc0-bbb1e841a25b"
      },
      "source": [
        "flattened_trainY.shape"
      ],
      "execution_count": 0,
      "outputs": [
        {
          "output_type": "execute_result",
          "data": {
            "text/plain": [
              "(7352,)"
            ]
          },
          "metadata": {
            "tags": []
          },
          "execution_count": 362
        }
      ]
    },
    {
      "cell_type": "code",
      "metadata": {
        "id": "pBUHqbtxrCaz",
        "colab_type": "code",
        "colab": {}
      },
      "source": [
        "model = Sequential([\n",
        "    Dense(units=528,input_shape = (128*6,),activation='relu'),\n",
        "    Dense(units=256,activation='relu'),\n",
        "    Dense(units=7,activation='softmax',)\n",
        "])"
      ],
      "execution_count": 0,
      "outputs": []
    },
    {
      "cell_type": "code",
      "metadata": {
        "id": "Wr9hxHHzrCa2",
        "colab_type": "code",
        "colab": {},
        "outputId": "6c13ccf4-65b7-4ddc-e8e4-c9a188f02421"
      },
      "source": [
        "model.summary()"
      ],
      "execution_count": 0,
      "outputs": [
        {
          "output_type": "stream",
          "text": [
            "_________________________________________________________________\n",
            "Layer (type)                 Output Shape              Param #   \n",
            "=================================================================\n",
            "dense_58 (Dense)             (None, 528)               406032    \n",
            "_________________________________________________________________\n",
            "dense_59 (Dense)             (None, 256)               135424    \n",
            "_________________________________________________________________\n",
            "dense_60 (Dense)             (None, 7)                 1799      \n",
            "=================================================================\n",
            "Total params: 543,255\n",
            "Trainable params: 543,255\n",
            "Non-trainable params: 0\n",
            "_________________________________________________________________\n"
          ],
          "name": "stdout"
        }
      ]
    },
    {
      "cell_type": "code",
      "metadata": {
        "id": "hqzFvrXRrCa7",
        "colab_type": "code",
        "colab": {}
      },
      "source": [
        "model.compile(optimizer=Adam(lr=0.001),loss='sparse_categorical_crossentropy',metrics=['accuracy'])"
      ],
      "execution_count": 0,
      "outputs": []
    },
    {
      "cell_type": "code",
      "metadata": {
        "id": "socyX8rgrCa-",
        "colab_type": "code",
        "colab": {},
        "outputId": "617d9d41-5d58-4189-c178-81a594052287"
      },
      "source": [
        "model.fit(x=normalized_trainX,y=flattened_trainY,batch_size=20,epochs=10,verbose=2)"
      ],
      "execution_count": 0,
      "outputs": [
        {
          "output_type": "stream",
          "text": [
            "Epoch 1/10\n",
            " - 3s - loss: 0.9309 - acc: 0.6430\n",
            "Epoch 2/10\n",
            " - 2s - loss: 0.3405 - acc: 0.8772\n",
            "Epoch 3/10\n",
            " - 2s - loss: 0.1824 - acc: 0.9369\n",
            "Epoch 4/10\n",
            " - 2s - loss: 0.1144 - acc: 0.9616\n",
            "Epoch 5/10\n",
            " - 2s - loss: 0.0658 - acc: 0.9797\n",
            "Epoch 6/10\n",
            " - 2s - loss: 0.0506 - acc: 0.9845\n",
            "Epoch 7/10\n",
            " - 2s - loss: 0.0402 - acc: 0.9867\n",
            "Epoch 8/10\n",
            " - 2s - loss: 0.0383 - acc: 0.9865\n",
            "Epoch 9/10\n",
            " - 2s - loss: 0.0288 - acc: 0.9895\n",
            "Epoch 10/10\n",
            " - 2s - loss: 0.0212 - acc: 0.9937\n"
          ],
          "name": "stdout"
        },
        {
          "output_type": "execute_result",
          "data": {
            "text/plain": [
              "<keras.callbacks.History at 0x1a42614748>"
            ]
          },
          "metadata": {
            "tags": []
          },
          "execution_count": 366
        }
      ]
    },
    {
      "cell_type": "code",
      "metadata": {
        "id": "is2-pBCUrCbA",
        "colab_type": "code",
        "colab": {}
      },
      "source": [
        "flattened_testX = []"
      ],
      "execution_count": 0,
      "outputs": []
    },
    {
      "cell_type": "code",
      "metadata": {
        "id": "ddaDLoX4rCbG",
        "colab_type": "code",
        "colab": {}
      },
      "source": [
        "for i in range(testX.shape[0]):\n",
        "    flattened_testX.append(testX[i].flatten())"
      ],
      "execution_count": 0,
      "outputs": []
    },
    {
      "cell_type": "code",
      "metadata": {
        "id": "39xqbP1LrCbH",
        "colab_type": "code",
        "colab": {},
        "outputId": "13c018e9-7330-4615-e53e-121c50c5fa27"
      },
      "source": [
        "flattened_testX = np.array(flattened_testX)\n",
        "flattened_testX.shape"
      ],
      "execution_count": 0,
      "outputs": [
        {
          "output_type": "execute_result",
          "data": {
            "text/plain": [
              "(2947, 768)"
            ]
          },
          "metadata": {
            "tags": []
          },
          "execution_count": 369
        }
      ]
    },
    {
      "cell_type": "code",
      "metadata": {
        "id": "uEQGIj6CrCbI",
        "colab_type": "code",
        "colab": {}
      },
      "source": [
        "transformer = Normalizer().fit(flattened_testX)\n",
        "normalized_testX = transformer.transform(flattened_testX)"
      ],
      "execution_count": 0,
      "outputs": []
    },
    {
      "cell_type": "code",
      "metadata": {
        "id": "CYUpYkPIrCbK",
        "colab_type": "code",
        "colab": {},
        "outputId": "c0bdc660-5fd3-47f6-c6d8-5da5f5b656a1"
      },
      "source": [
        "normalized_testX.shape"
      ],
      "execution_count": 0,
      "outputs": [
        {
          "output_type": "execute_result",
          "data": {
            "text/plain": [
              "(2947, 768)"
            ]
          },
          "metadata": {
            "tags": []
          },
          "execution_count": 371
        }
      ]
    },
    {
      "cell_type": "code",
      "metadata": {
        "id": "QrZHPYxOrCbN",
        "colab_type": "code",
        "colab": {},
        "outputId": "08f7bc00-4ad6-4324-f1b2-1ca0d8eba8e0"
      },
      "source": [
        "flattened_testY = testY.flatten()\n",
        "flattened_testY.shape"
      ],
      "execution_count": 0,
      "outputs": [
        {
          "output_type": "execute_result",
          "data": {
            "text/plain": [
              "(2947,)"
            ]
          },
          "metadata": {
            "tags": []
          },
          "execution_count": 372
        }
      ]
    },
    {
      "cell_type": "code",
      "metadata": {
        "id": "gs3aEJlyrCbQ",
        "colab_type": "code",
        "colab": {},
        "outputId": "a468f887-2bf5-426b-8ebd-1fb9dac13457"
      },
      "source": [
        "model.evaluate(x=normalized_testX,y=flattened_testY,batch_size=20,verbose=2)"
      ],
      "execution_count": 0,
      "outputs": [
        {
          "output_type": "execute_result",
          "data": {
            "text/plain": [
              "[0.6840528767191892, 0.8347471974484185]"
            ]
          },
          "metadata": {
            "tags": []
          },
          "execution_count": 373
        }
      ]
    },
    {
      "cell_type": "code",
      "metadata": {
        "id": "x0r5g2AcrCbS",
        "colab_type": "code",
        "colab": {},
        "outputId": "d03b8957-09c4-43e6-9285-7712332f9f07"
      },
      "source": [
        "pred_classes = model.predict_classes(x=flattened_testX)\n",
        "pred_classes"
      ],
      "execution_count": 0,
      "outputs": [
        {
          "output_type": "execute_result",
          "data": {
            "text/plain": [
              "array([5, 5, 4, ..., 2, 2, 2])"
            ]
          },
          "metadata": {
            "tags": []
          },
          "execution_count": 374
        }
      ]
    },
    {
      "cell_type": "code",
      "metadata": {
        "id": "mXv_fS8orCbU",
        "colab_type": "code",
        "colab": {},
        "outputId": "78cf1015-2351-495b-aaab-e239f99df2a2"
      },
      "source": [
        "accuracy(pred_classes,flattened_testY)"
      ],
      "execution_count": 0,
      "outputs": [
        {
          "output_type": "execute_result",
          "data": {
            "text/plain": [
              "0.7889379029521547"
            ]
          },
          "metadata": {
            "tags": []
          },
          "execution_count": 375
        }
      ]
    },
    {
      "cell_type": "markdown",
      "metadata": {
        "id": "T8r2ToINrCbW",
        "colab_type": "text"
      },
      "source": [
        "<h2 style = \"color:purple;\">Model 3:Convolutional Neural Network</h2>"
      ]
    },
    {
      "cell_type": "code",
      "metadata": {
        "id": "kt8wpeoWrCbW",
        "colab_type": "code",
        "colab": {}
      },
      "source": [
        "def one_hot_encoding(data):\n",
        "    classes = np.arange(6)\n",
        "    label=np.ndarray(shape=(data.shape[0],6))\n",
        "    for i in range(data.shape[0]):\n",
        "        one_hot  = (classes==data[i]).astype(np.int)\n",
        "        label[i]=one_hot\n",
        "    return label"
      ],
      "execution_count": 0,
      "outputs": []
    },
    {
      "cell_type": "code",
      "metadata": {
        "id": "igSEreV6rCba",
        "colab_type": "code",
        "colab": {}
      },
      "source": [
        "# load all train\n",
        "trainX, trainY = load_dataset_2('train', 'HARDataset/')"
      ],
      "execution_count": 0,
      "outputs": []
    },
    {
      "cell_type": "code",
      "metadata": {
        "id": "6PNd3Rn8rCbc",
        "colab_type": "code",
        "colab": {},
        "outputId": "361d3f5d-c888-4b27-ec36-c0e8c82b2311"
      },
      "source": [
        "trainX[0].T.shape"
      ],
      "execution_count": 0,
      "outputs": [
        {
          "output_type": "execute_result",
          "data": {
            "text/plain": [
              "(6, 128)"
            ]
          },
          "metadata": {
            "tags": []
          },
          "execution_count": 253
        }
      ]
    },
    {
      "cell_type": "code",
      "metadata": {
        "id": "J4N_lctmrCbe",
        "colab_type": "code",
        "colab": {}
      },
      "source": [
        "recurrence_trainX = []"
      ],
      "execution_count": 0,
      "outputs": []
    },
    {
      "cell_type": "markdown",
      "metadata": {
        "id": "USiSV-CDyehf",
        "colab_type": "text"
      },
      "source": [
        "## Used recurrence plot suggested by paper to make input 128x128x6"
      ]
    },
    {
      "cell_type": "code",
      "metadata": {
        "id": "IvUyTs1JrCbj",
        "colab_type": "code",
        "colab": {}
      },
      "source": [
        "# Recurrence plot transformation\n",
        "rp = RecurrencePlot(dimension=1, time_delay=1,\n",
        "                    threshold='percentage_points',\n",
        "                    percentage=30)\n",
        "for i in range(trainX.shape[0]):\n",
        "    recurrence_trainX.append(rp.fit_transform(trainX[i].T))"
      ],
      "execution_count": 0,
      "outputs": []
    },
    {
      "cell_type": "code",
      "metadata": {
        "id": "nxlJmJWXrCbk",
        "colab_type": "code",
        "colab": {}
      },
      "source": [
        "recurrence_trainX = np.array(recurrence_trainX)"
      ],
      "execution_count": 0,
      "outputs": []
    },
    {
      "cell_type": "code",
      "metadata": {
        "id": "5T9hc1lNrCbl",
        "colab_type": "code",
        "colab": {},
        "outputId": "aa47074c-60a0-4ef5-ffa1-9eb2c6699b3c"
      },
      "source": [
        "recurrence_trainX[0].T.shape"
      ],
      "execution_count": 0,
      "outputs": [
        {
          "output_type": "execute_result",
          "data": {
            "text/plain": [
              "(128, 128, 6)"
            ]
          },
          "metadata": {
            "tags": []
          },
          "execution_count": 257
        }
      ]
    },
    {
      "cell_type": "code",
      "metadata": {
        "id": "2wk5FNlwrCbq",
        "colab_type": "code",
        "colab": {},
        "outputId": "73fd765d-f4c3-41ef-a0ac-ffc7eb04f68b"
      },
      "source": [
        "model = Sequential()\n",
        "model.add(Convolution2D(filters=20,kernel_size=(3, 3), input_shape=(6,128,128), data_format='channels_first'))\n",
        "model.add(MaxPooling2D(pool_size=(2,2),data_format='channels_first'))\n",
        "model.add(Convolution2D(filters=20,kernel_size=(3, 3),data_format='channels_first'))\n",
        "model.add(MaxPooling2D(pool_size=(2,2),data_format='channels_first'))\n",
        "model.add(Flatten())\n",
        "model.add(Dense(units=16820,activation='relu'))\n",
        "model.add(Dense(units=1000,activation='relu'))\n",
        "model.add(Dense(units=500,activation='relu'))\n",
        "model.add(Dense(6, activation='softmax'))\n",
        "model.compile(loss='categorical_crossentropy',\n",
        "              optimizer=Adam(lr = 0.001),\n",
        "              metrics=['accuracy'])\n",
        "model.summary()"
      ],
      "execution_count": 0,
      "outputs": [
        {
          "output_type": "stream",
          "text": [
            "_________________________________________________________________\n",
            "Layer (type)                 Output Shape              Param #   \n",
            "=================================================================\n",
            "conv2d_19 (Conv2D)           (None, 20, 126, 126)      1100      \n",
            "_________________________________________________________________\n",
            "max_pooling2d_19 (MaxPooling (None, 20, 63, 63)        0         \n",
            "_________________________________________________________________\n",
            "conv2d_20 (Conv2D)           (None, 20, 61, 61)        3620      \n",
            "_________________________________________________________________\n",
            "max_pooling2d_20 (MaxPooling (None, 20, 30, 30)        0         \n",
            "_________________________________________________________________\n",
            "flatten_6 (Flatten)          (None, 18000)             0         \n",
            "_________________________________________________________________\n",
            "dense_58 (Dense)             (None, 16820)             302776820 \n",
            "_________________________________________________________________\n",
            "dense_59 (Dense)             (None, 1000)              16821000  \n",
            "_________________________________________________________________\n",
            "dense_60 (Dense)             (None, 500)               500500    \n",
            "_________________________________________________________________\n",
            "dense_61 (Dense)             (None, 6)                 3006      \n",
            "=================================================================\n",
            "Total params: 320,106,046\n",
            "Trainable params: 320,106,046\n",
            "Non-trainable params: 0\n",
            "_________________________________________________________________\n"
          ],
          "name": "stdout"
        }
      ]
    },
    {
      "cell_type": "code",
      "metadata": {
        "id": "Y0TWRRv2rCbw",
        "colab_type": "code",
        "colab": {},
        "outputId": "06befbb1-0412-4bbf-fe7b-7e4f017a7928"
      },
      "source": [
        "trainY_altered = trainY - 1 #since our classes start from 1 rather than 0 !!!\n",
        "trainY_altered[0]"
      ],
      "execution_count": 0,
      "outputs": [
        {
          "output_type": "execute_result",
          "data": {
            "text/plain": [
              "array([4])"
            ]
          },
          "metadata": {
            "tags": []
          },
          "execution_count": 259
        }
      ]
    },
    {
      "cell_type": "code",
      "metadata": {
        "id": "5qRPpgSorCby",
        "colab_type": "code",
        "colab": {},
        "outputId": "7c2d2c44-3f1e-4ebe-d685-350f61b125ca"
      },
      "source": [
        "one_hot_encodedY = one_hot_encoding(trainY_altered)\n",
        "one_hot_encodedY[0]"
      ],
      "execution_count": 0,
      "outputs": [
        {
          "output_type": "execute_result",
          "data": {
            "text/plain": [
              "array([0., 0., 0., 0., 1., 0.])"
            ]
          },
          "metadata": {
            "tags": []
          },
          "execution_count": 260
        }
      ]
    },
    {
      "cell_type": "code",
      "metadata": {
        "id": "OcPrZBPCrCb0",
        "colab_type": "code",
        "colab": {},
        "outputId": "97e2f03d-f6ca-4833-d050-669034811b63"
      },
      "source": [
        "model.fit(x=recurrence_trainX,y=one_hot_encodedY,batch_size=20,epochs=2,verbose=2)"
      ],
      "execution_count": 0,
      "outputs": [
        {
          "output_type": "stream",
          "text": [
            "Epoch 1/2\n"
          ],
          "name": "stdout"
        }
      ]
    },
    {
      "cell_type": "markdown",
      "metadata": {
        "id": "Rp5KFAqLrCb2",
        "colab_type": "text"
      },
      "source": [
        "  <h2 style = \"color:purple;\">Model 4: 1D Convolutional Neural Network</h2>"
      ]
    },
    {
      "cell_type": "code",
      "metadata": {
        "id": "PjEHQxu3rCb3",
        "colab_type": "code",
        "colab": {}
      },
      "source": [
        "# load all train\n",
        "trainX, trainY = load_dataset_2('train', 'HARDataset/')"
      ],
      "execution_count": 0,
      "outputs": []
    },
    {
      "cell_type": "code",
      "metadata": {
        "id": "mhBWMAURrCb4",
        "colab_type": "code",
        "colab": {},
        "outputId": "0dfa7b48-9830-46b3-fd6b-ceed24fe097d"
      },
      "source": [
        "trainX[0].shape"
      ],
      "execution_count": 0,
      "outputs": [
        {
          "output_type": "execute_result",
          "data": {
            "text/plain": [
              "(128, 6)"
            ]
          },
          "metadata": {
            "tags": []
          },
          "execution_count": 410
        }
      ]
    },
    {
      "cell_type": "code",
      "metadata": {
        "id": "jzNl2B5UrCb5",
        "colab_type": "code",
        "colab": {},
        "outputId": "110a96dd-b6c6-4e99-e970-0e6fedf894f0"
      },
      "source": [
        "trainY_altered = trainY - 1 #since our classes start from 1 rather than 0 !!!\n",
        "trainY_altered[0]"
      ],
      "execution_count": 0,
      "outputs": [
        {
          "output_type": "execute_result",
          "data": {
            "text/plain": [
              "array([4])"
            ]
          },
          "metadata": {
            "tags": []
          },
          "execution_count": 411
        }
      ]
    },
    {
      "cell_type": "code",
      "metadata": {
        "id": "MtUNSY2srCb6",
        "colab_type": "code",
        "colab": {},
        "outputId": "84187ac7-5726-4a71-f44e-34a624c39297"
      },
      "source": [
        "one_hot_encodedY = one_hot_encoding(trainY_altered)\n",
        "one_hot_encodedY[0]"
      ],
      "execution_count": 0,
      "outputs": [
        {
          "output_type": "execute_result",
          "data": {
            "text/plain": [
              "array([0., 0., 0., 0., 1., 0.])"
            ]
          },
          "metadata": {
            "tags": []
          },
          "execution_count": 412
        }
      ]
    },
    {
      "cell_type": "code",
      "metadata": {
        "id": "JgLM4Y9wrCb9",
        "colab_type": "code",
        "colab": {}
      },
      "source": [
        "model = Sequential()\n",
        "model.add(Conv1D(100, 10, activation='relu', input_shape=(128, 6)))\n",
        "model.add(Conv1D(100, 10, activation='relu'))\n",
        "model.add(MaxPooling1D(3))\n",
        "model.add(Conv1D(160, 10, activation='relu'))\n",
        "model.add(Conv1D(160, 10, activation='relu'))\n",
        "model.add(GlobalAveragePooling1D())\n",
        "model.add(Dropout(0.5))\n",
        "model.add(Dense(6, activation='softmax'))\n",
        "model.compile(loss='categorical_crossentropy',\n",
        "              optimizer=Adam(lr = 0.001),\n",
        "              metrics=['accuracy'])"
      ],
      "execution_count": 0,
      "outputs": []
    },
    {
      "cell_type": "code",
      "metadata": {
        "id": "oWdmw7nUrCb_",
        "colab_type": "code",
        "colab": {},
        "outputId": "2f95cd9e-21f0-424b-f915-f86cc0393897"
      },
      "source": [
        "model.summary()"
      ],
      "execution_count": 0,
      "outputs": [
        {
          "output_type": "stream",
          "text": [
            "_________________________________________________________________\n",
            "Layer (type)                 Output Shape              Param #   \n",
            "=================================================================\n",
            "conv1d_17 (Conv1D)           (None, 119, 100)          6100      \n",
            "_________________________________________________________________\n",
            "conv1d_18 (Conv1D)           (None, 110, 100)          100100    \n",
            "_________________________________________________________________\n",
            "max_pooling1d_5 (MaxPooling1 (None, 36, 100)           0         \n",
            "_________________________________________________________________\n",
            "conv1d_19 (Conv1D)           (None, 27, 160)           160160    \n",
            "_________________________________________________________________\n",
            "conv1d_20 (Conv1D)           (None, 18, 160)           256160    \n",
            "_________________________________________________________________\n",
            "global_average_pooling1d_5 ( (None, 160)               0         \n",
            "_________________________________________________________________\n",
            "dropout_5 (Dropout)          (None, 160)               0         \n",
            "_________________________________________________________________\n",
            "dense_65 (Dense)             (None, 6)                 966       \n",
            "=================================================================\n",
            "Total params: 523,486\n",
            "Trainable params: 523,486\n",
            "Non-trainable params: 0\n",
            "_________________________________________________________________\n"
          ],
          "name": "stdout"
        }
      ]
    },
    {
      "cell_type": "code",
      "metadata": {
        "id": "1PayAbaprCcC",
        "colab_type": "code",
        "colab": {},
        "outputId": "feb5faef-573e-4c0a-d056-dc7dc62357e1"
      },
      "source": [
        "model.fit(x=trainX,y=one_hot_encodedY,batch_size=20,epochs=12,verbose=2)"
      ],
      "execution_count": 0,
      "outputs": [
        {
          "output_type": "stream",
          "text": [
            "Epoch 1/12\n",
            " - 21s - loss: 0.8302 - acc: 0.5690\n",
            "Epoch 2/12\n",
            " - 19s - loss: 0.6081 - acc: 0.6733\n",
            "Epoch 3/12\n",
            " - 20s - loss: 0.5151 - acc: 0.7500\n",
            "Epoch 4/12\n",
            " - 19s - loss: 0.3925 - acc: 0.8317\n",
            "Epoch 5/12\n",
            " - 19s - loss: 0.3479 - acc: 0.8621\n",
            "Epoch 6/12\n",
            " - 19s - loss: 0.2901 - acc: 0.8851\n",
            "Epoch 7/12\n",
            " - 19s - loss: 0.2604 - acc: 0.8954\n",
            "Epoch 8/12\n",
            " - 19s - loss: 0.2684 - acc: 0.8993\n",
            "Epoch 9/12\n",
            " - 19s - loss: 0.2410 - acc: 0.9106\n",
            "Epoch 10/12\n",
            " - 20s - loss: 0.2122 - acc: 0.9203\n",
            "Epoch 11/12\n",
            " - 19s - loss: 0.1929 - acc: 0.9255\n",
            "Epoch 12/12\n",
            " - 19s - loss: 0.2086 - acc: 0.9251\n"
          ],
          "name": "stdout"
        },
        {
          "output_type": "execute_result",
          "data": {
            "text/plain": [
              "<keras.callbacks.History at 0x1a4c341b70>"
            ]
          },
          "metadata": {
            "tags": []
          },
          "execution_count": 415
        }
      ]
    },
    {
      "cell_type": "code",
      "metadata": {
        "id": "LEZkFNn3rCcD",
        "colab_type": "code",
        "colab": {}
      },
      "source": [
        "#load all test\n",
        "testX, testY = load_dataset_2('test', 'HARDataset/')"
      ],
      "execution_count": 0,
      "outputs": []
    },
    {
      "cell_type": "code",
      "metadata": {
        "id": "C0IZbp8drCcF",
        "colab_type": "code",
        "colab": {},
        "outputId": "7e2ce9b8-fd93-4f66-af86-71fce216caa9"
      },
      "source": [
        "testX[0].shape"
      ],
      "execution_count": 0,
      "outputs": [
        {
          "output_type": "execute_result",
          "data": {
            "text/plain": [
              "(128, 6)"
            ]
          },
          "metadata": {
            "tags": []
          },
          "execution_count": 417
        }
      ]
    },
    {
      "cell_type": "code",
      "metadata": {
        "id": "iR32fPwBrCcH",
        "colab_type": "code",
        "colab": {},
        "outputId": "e414d4c4-47d2-47bc-db42-80a7cdcf8a69"
      },
      "source": [
        "testY_altered = testY - 1 #since our classes start from 1 rather than 0 !!!\n",
        "testY_altered[0]"
      ],
      "execution_count": 0,
      "outputs": [
        {
          "output_type": "execute_result",
          "data": {
            "text/plain": [
              "array([4])"
            ]
          },
          "metadata": {
            "tags": []
          },
          "execution_count": 418
        }
      ]
    },
    {
      "cell_type": "code",
      "metadata": {
        "id": "fIu4F80TrCcN",
        "colab_type": "code",
        "colab": {},
        "outputId": "75010978-cb00-4247-f329-2a301debd60b"
      },
      "source": [
        "one_hot_encodedY = one_hot_encoding(testY_altered)\n",
        "one_hot_encodedY[0]"
      ],
      "execution_count": 0,
      "outputs": [
        {
          "output_type": "execute_result",
          "data": {
            "text/plain": [
              "array([0., 0., 0., 0., 1., 0.])"
            ]
          },
          "metadata": {
            "tags": []
          },
          "execution_count": 419
        }
      ]
    },
    {
      "cell_type": "code",
      "metadata": {
        "id": "vkWx-601rCcP",
        "colab_type": "code",
        "colab": {},
        "outputId": "888531ed-ef04-4ba9-9267-03993c842d27"
      },
      "source": [
        "model.evaluate(x=testX,y=one_hot_encodedY,batch_size=20,verbose=2) #loss and accuracy"
      ],
      "execution_count": 0,
      "outputs": [
        {
          "output_type": "execute_result",
          "data": {
            "text/plain": [
              "[0.5753766069435932, 0.8771632140901156]"
            ]
          },
          "metadata": {
            "tags": []
          },
          "execution_count": 420
        }
      ]
    },
    {
      "cell_type": "markdown",
      "metadata": {
        "id": "NEh3801SrCcQ",
        "colab_type": "text"
      },
      "source": [
        "### Saving the model "
      ]
    },
    {
      "cell_type": "code",
      "metadata": {
        "id": "6RB_Po_TrCcQ",
        "colab_type": "code",
        "colab": {},
        "outputId": "e8b0629a-aaf5-46b6-aee4-b21fb4897b6b"
      },
      "source": [
        "# Save tf.keras model in HDF5 format.\n",
        "keras_file = \"keras_model_cnn.h5\"\n",
        "keras.models.save_model(model,keras_file)\n",
        "\n",
        "# Convert to TensorFlow Lite model.\n",
        "converter = tf.lite.TFLiteConverter.from_keras_model_file(keras_file)\n",
        "tflite_model = converter.convert()\n",
        "open(\"converted_model_cnn.tflite\", \"wb\").write(tflite_model)"
      ],
      "execution_count": 0,
      "outputs": [
        {
          "output_type": "stream",
          "text": [
            "WARNING:tensorflow:From /anaconda3/lib/python3.6/site-packages/tensorflow/lite/python/lite.py:591: convert_variables_to_constants (from tensorflow.python.framework.graph_util_impl) is deprecated and will be removed in a future version.\n",
            "Instructions for updating:\n",
            "Use tf.compat.v1.graph_util.convert_variables_to_constants\n",
            "WARNING:tensorflow:From /anaconda3/lib/python3.6/site-packages/tensorflow/python/framework/graph_util_impl.py:245: extract_sub_graph (from tensorflow.python.framework.graph_util_impl) is deprecated and will be removed in a future version.\n",
            "Instructions for updating:\n",
            "Use tf.compat.v1.graph_util.extract_sub_graph\n",
            "INFO:tensorflow:Froze 10 variables.\n",
            "INFO:tensorflow:Converted 10 variables to const ops.\n"
          ],
          "name": "stdout"
        },
        {
          "output_type": "execute_result",
          "data": {
            "text/plain": [
              "2097792"
            ]
          },
          "metadata": {
            "tags": []
          },
          "execution_count": 422
        }
      ]
    },
    {
      "cell_type": "markdown",
      "metadata": {
        "id": "Bod1oCBGrCcR",
        "colab_type": "text"
      },
      "source": [
        "  <h2 style = \"color:purple;\">Model 5: 1D Convolutional Neural Network with normalized data</h2>\n"
      ]
    },
    {
      "cell_type": "code",
      "metadata": {
        "id": "qpKp42yLrCcS",
        "colab_type": "code",
        "colab": {}
      },
      "source": [
        "# load all train\n",
        "trainX, trainY = load_dataset_2('train', 'HARDataset/')"
      ],
      "execution_count": 0,
      "outputs": []
    },
    {
      "cell_type": "code",
      "metadata": {
        "id": "pRCxYcMLrCcT",
        "colab_type": "code",
        "colab": {},
        "outputId": "beabd1ca-3c73-4bef-c39b-369efca50643"
      },
      "source": [
        "trainX.shape"
      ],
      "execution_count": 0,
      "outputs": [
        {
          "output_type": "execute_result",
          "data": {
            "text/plain": [
              "(7352, 128, 6)"
            ]
          },
          "metadata": {
            "tags": []
          },
          "execution_count": 33
        }
      ]
    },
    {
      "cell_type": "code",
      "metadata": {
        "id": "-izUlW9HrCcU",
        "colab_type": "code",
        "colab": {}
      },
      "source": [
        "normalized_trainX = []\n",
        "for i in range(trainX.shape[0]):\n",
        "    transformer = Normalizer().fit(trainX[i])\n",
        "    norm_X = transformer.transform(trainX[i])\n",
        "    normalized_trainX.append(norm_X)"
      ],
      "execution_count": 0,
      "outputs": []
    },
    {
      "cell_type": "code",
      "metadata": {
        "id": "eFTlHjELrCcV",
        "colab_type": "code",
        "colab": {}
      },
      "source": [
        "normalized_trainX = np.array(normalized_trainX)"
      ],
      "execution_count": 0,
      "outputs": []
    },
    {
      "cell_type": "code",
      "metadata": {
        "id": "XuBW6BM9rCcW",
        "colab_type": "code",
        "colab": {},
        "outputId": "29432f86-b1da-40be-9f7b-0f2f8dd22e64"
      },
      "source": [
        "normalized_trainX.shape"
      ],
      "execution_count": 0,
      "outputs": [
        {
          "output_type": "execute_result",
          "data": {
            "text/plain": [
              "(7352, 128, 6)"
            ]
          },
          "metadata": {
            "tags": []
          },
          "execution_count": 36
        }
      ]
    },
    {
      "cell_type": "code",
      "metadata": {
        "id": "jrxUgLSjrCcX",
        "colab_type": "code",
        "colab": {},
        "outputId": "7db13384-ea6c-4ad1-df83-70cfa06feacf"
      },
      "source": [
        "print('min:',np.min(normalized_trainX))\n",
        "print('max:',np.max(normalized_trainX))"
      ],
      "execution_count": 0,
      "outputs": [
        {
          "output_type": "stream",
          "text": [
            "min: -0.9995361747283659\n",
            "max: 0.999524597826774\n"
          ],
          "name": "stdout"
        }
      ]
    },
    {
      "cell_type": "code",
      "metadata": {
        "id": "B50dACdorCcZ",
        "colab_type": "code",
        "colab": {},
        "outputId": "8c896036-a3d7-48a5-abff-1a9e315f795b"
      },
      "source": [
        "trainY_altered = trainY - 1 #since our classes start from 1 rather than 0 !!!\n",
        "trainY_altered[0]"
      ],
      "execution_count": 0,
      "outputs": [
        {
          "output_type": "execute_result",
          "data": {
            "text/plain": [
              "array([4])"
            ]
          },
          "metadata": {
            "tags": []
          },
          "execution_count": 38
        }
      ]
    },
    {
      "cell_type": "code",
      "metadata": {
        "id": "e3HKs9kerCca",
        "colab_type": "code",
        "colab": {},
        "outputId": "5dc263d4-2744-4f8b-bd40-4857b83d6267"
      },
      "source": [
        "one_hot_encodedY = one_hot_encoding(trainY_altered)\n",
        "one_hot_encodedY[0]"
      ],
      "execution_count": 0,
      "outputs": [
        {
          "output_type": "execute_result",
          "data": {
            "text/plain": [
              "array([0., 0., 0., 0., 1., 0.])"
            ]
          },
          "metadata": {
            "tags": []
          },
          "execution_count": 39
        }
      ]
    },
    {
      "cell_type": "code",
      "metadata": {
        "id": "7DswwFoqrCcb",
        "colab_type": "code",
        "colab": {}
      },
      "source": [
        "model = Sequential()\n",
        "model.add(Conv1D(100, 10, activation='relu', input_shape=(128, 6)))\n",
        "model.add(Conv1D(100, 10, activation='relu'))\n",
        "model.add(MaxPooling1D(3))\n",
        "model.add(Conv1D(160, 10, activation='relu'))\n",
        "model.add(Conv1D(160, 10, activation='relu'))\n",
        "model.add(GlobalAveragePooling1D())\n",
        "model.add(Dropout(0.5))\n",
        "model.add(Dense(6, activation='softmax'))\n",
        "model.compile(loss='categorical_crossentropy',\n",
        "              optimizer=Adam(lr = 0.001),\n",
        "              metrics=['accuracy'])"
      ],
      "execution_count": 0,
      "outputs": []
    },
    {
      "cell_type": "code",
      "metadata": {
        "id": "YvIP1rtTrCcd",
        "colab_type": "code",
        "colab": {},
        "outputId": "872bbd3e-1576-4a48-cb0e-935c4a3b6d99"
      },
      "source": [
        "model.summary()"
      ],
      "execution_count": 0,
      "outputs": [
        {
          "output_type": "stream",
          "text": [
            "_________________________________________________________________\n",
            "Layer (type)                 Output Shape              Param #   \n",
            "=================================================================\n",
            "conv1d_9 (Conv1D)            (None, 119, 100)          6100      \n",
            "_________________________________________________________________\n",
            "conv1d_10 (Conv1D)           (None, 110, 100)          100100    \n",
            "_________________________________________________________________\n",
            "max_pooling1d_3 (MaxPooling1 (None, 36, 100)           0         \n",
            "_________________________________________________________________\n",
            "conv1d_11 (Conv1D)           (None, 27, 160)           160160    \n",
            "_________________________________________________________________\n",
            "conv1d_12 (Conv1D)           (None, 18, 160)           256160    \n",
            "_________________________________________________________________\n",
            "global_average_pooling1d_3 ( (None, 160)               0         \n",
            "_________________________________________________________________\n",
            "dropout_3 (Dropout)          (None, 160)               0         \n",
            "_________________________________________________________________\n",
            "dense_3 (Dense)              (None, 6)                 966       \n",
            "=================================================================\n",
            "Total params: 523,486\n",
            "Trainable params: 523,486\n",
            "Non-trainable params: 0\n",
            "_________________________________________________________________\n"
          ],
          "name": "stdout"
        }
      ]
    },
    {
      "cell_type": "code",
      "metadata": {
        "id": "Sx70PlDjrCcf",
        "colab_type": "code",
        "colab": {},
        "outputId": "19e5176a-d19d-439a-9692-b5e6b678cfae"
      },
      "source": [
        "model.fit(x=normalized_trainX,y=one_hot_encodedY,batch_size=20,epochs=10,verbose=2)"
      ],
      "execution_count": 0,
      "outputs": [
        {
          "output_type": "stream",
          "text": [
            "Epoch 1/10\n",
            " - 22s - loss: 0.7631 - acc: 0.6828\n",
            "Epoch 2/10\n",
            " - 19s - loss: 0.3496 - acc: 0.8765\n",
            "Epoch 3/10\n",
            " - 20s - loss: 0.2556 - acc: 0.9102\n",
            "Epoch 4/10\n",
            " - 20s - loss: 0.2187 - acc: 0.9184\n",
            "Epoch 5/10\n",
            " - 18s - loss: 0.1729 - acc: 0.9380\n",
            "Epoch 6/10\n",
            " - 18s - loss: 0.1620 - acc: 0.9419\n",
            "Epoch 7/10\n",
            " - 18s - loss: 0.1411 - acc: 0.9489\n",
            "Epoch 8/10\n",
            " - 18s - loss: 0.1451 - acc: 0.9498\n",
            "Epoch 9/10\n",
            " - 19s - loss: 0.1342 - acc: 0.9516\n",
            "Epoch 10/10\n",
            " - 19s - loss: 0.0965 - acc: 0.9676\n"
          ],
          "name": "stdout"
        },
        {
          "output_type": "execute_result",
          "data": {
            "text/plain": [
              "<keras.callbacks.History at 0x1a29b36e80>"
            ]
          },
          "metadata": {
            "tags": []
          },
          "execution_count": 42
        }
      ]
    },
    {
      "cell_type": "code",
      "metadata": {
        "id": "qjMZ3H-ZrCcg",
        "colab_type": "code",
        "colab": {}
      },
      "source": [
        "#load all test\n",
        "testX, testY = load_dataset_2('test', 'HARDataset/')"
      ],
      "execution_count": 0,
      "outputs": []
    },
    {
      "cell_type": "code",
      "metadata": {
        "id": "Nl_hfptNrCch",
        "colab_type": "code",
        "colab": {},
        "outputId": "4db7db61-1d4f-4df4-81bf-2b4f37172dba"
      },
      "source": [
        "testX[0].shape"
      ],
      "execution_count": 0,
      "outputs": [
        {
          "output_type": "execute_result",
          "data": {
            "text/plain": [
              "(128, 6)"
            ]
          },
          "metadata": {
            "tags": []
          },
          "execution_count": 44
        }
      ]
    },
    {
      "cell_type": "code",
      "metadata": {
        "id": "S0Xs9C1RrCcj",
        "colab_type": "code",
        "colab": {}
      },
      "source": [
        "normalized_testX = []\n",
        "for i in range(testX.shape[0]):\n",
        "    transformer = Normalizer().fit(testX[i])\n",
        "    norm_X = transformer.transform(testX[i])\n",
        "    normalized_testX.append(norm_X)"
      ],
      "execution_count": 0,
      "outputs": []
    },
    {
      "cell_type": "code",
      "metadata": {
        "id": "hyNM6MQArCcl",
        "colab_type": "code",
        "colab": {}
      },
      "source": [
        "normalized_testX = np.array(normalized_testX)"
      ],
      "execution_count": 0,
      "outputs": []
    },
    {
      "cell_type": "code",
      "metadata": {
        "id": "-7VXtBSJrCcm",
        "colab_type": "code",
        "colab": {},
        "outputId": "77daa1b7-eb61-46a8-c7d8-831f5ecf96c5"
      },
      "source": [
        "testY_altered = testY - 1 #since our classes start from 1 rather than 0 !!!\n",
        "testY_altered[0]"
      ],
      "execution_count": 0,
      "outputs": [
        {
          "output_type": "execute_result",
          "data": {
            "text/plain": [
              "array([4])"
            ]
          },
          "metadata": {
            "tags": []
          },
          "execution_count": 47
        }
      ]
    },
    {
      "cell_type": "code",
      "metadata": {
        "id": "ZSkeNDd0rCcp",
        "colab_type": "code",
        "colab": {},
        "outputId": "44e640aa-ecfa-4876-bd93-0b020fd3fa8c"
      },
      "source": [
        "one_hot_encodedY = one_hot_encoding(testY_altered)\n",
        "one_hot_encodedY[0]"
      ],
      "execution_count": 0,
      "outputs": [
        {
          "output_type": "execute_result",
          "data": {
            "text/plain": [
              "array([0., 0., 0., 0., 1., 0.])"
            ]
          },
          "metadata": {
            "tags": []
          },
          "execution_count": 48
        }
      ]
    },
    {
      "cell_type": "code",
      "metadata": {
        "id": "oLj5Gr3ErCcr",
        "colab_type": "code",
        "colab": {},
        "outputId": "e423ff5f-964f-4532-936b-3cc8e94b4e00"
      },
      "source": [
        "model.evaluate(x=normalized_testX,y=one_hot_encodedY,batch_size=20,verbose=2) #loss and accuracy"
      ],
      "execution_count": 0,
      "outputs": [
        {
          "output_type": "execute_result",
          "data": {
            "text/plain": [
              "[0.3139856550524486, 0.9168646052444349]"
            ]
          },
          "metadata": {
            "tags": []
          },
          "execution_count": 49
        }
      ]
    }
  ]
}