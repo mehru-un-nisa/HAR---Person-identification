{
  "nbformat": 4,
  "nbformat_minor": 0,
  "metadata": {
    "colab": {
      "name": "HAR-WISDM.ipynb",
      "version": "0.3.2",
      "provenance": [],
      "collapsed_sections": []
    },
    "language_info": {
      "codemirror_mode": {
        "name": "ipython",
        "version": 3
      },
      "file_extension": ".py",
      "mimetype": "text/x-python",
      "name": "python",
      "nbconvert_exporter": "python",
      "pygments_lexer": "ipython3",
      "version": "3.6.5"
    },
    "kernelspec": {
      "name": "python3",
      "display_name": "Python 3"
    },
    "accelerator": "GPU"
  },
  "cells": [
    {
      "cell_type": "code",
      "metadata": {
        "id": "gZsCqsD3hAPD",
        "colab_type": "code",
        "colab": {}
      },
      "source": [
        "import math\n",
        "import random\n",
        "\n",
        "import numpy as np\n",
        "import matplotlib.pyplot as plt"
      ],
      "execution_count": 0,
      "outputs": []
    },
    {
      "cell_type": "code",
      "metadata": {
        "id": "tZItcn7HhQoi",
        "colab_type": "code",
        "colab": {}
      },
      "source": [
        "%matplotlib inline"
      ],
      "execution_count": 0,
      "outputs": []
    },
    {
      "cell_type": "markdown",
      "metadata": {
        "id": "vOD8Gqqbh-aC",
        "colab_type": "text"
      },
      "source": [
        "# Download Dataset"
      ]
    },
    {
      "cell_type": "code",
      "metadata": {
        "id": "O3kICICJhx6k",
        "colab_type": "code",
        "outputId": "8414e235-4abd-438b-8810-4bc1cf3f4bff",
        "colab": {
          "base_uri": "https://localhost:8080/",
          "height": 217
        }
      },
      "source": [
        "!wget http://www.cis.fordham.edu/wisdm/includes/datasets/latest/WISDM_ar_latest.tar.gz -O /tmp/WISDM_ar_latest.tar.gz"
      ],
      "execution_count": 3,
      "outputs": [
        {
          "output_type": "stream",
          "text": [
            "--2019-05-31 19:09:23--  http://www.cis.fordham.edu/wisdm/includes/datasets/latest/WISDM_ar_latest.tar.gz\n",
            "Resolving www.cis.fordham.edu (www.cis.fordham.edu)... 150.108.68.29\n",
            "Connecting to www.cis.fordham.edu (www.cis.fordham.edu)|150.108.68.29|:80... connected.\n",
            "HTTP request sent, awaiting response... 200 OK\n",
            "Length: 11404612 (11M) [application/x-gzip]\n",
            "Saving to: ‘/tmp/WISDM_ar_latest.tar.gz’\n",
            "\n",
            "\r          /tmp/WISD   0%[                    ]       0  --.-KB/s               \r         /tmp/WISDM  10%[=>                  ]   1.14M  5.72MB/s               \r        /tmp/WISDM_  72%[=============>      ]   7.88M  19.7MB/s               \r/tmp/WISDM_ar_lates 100%[===================>]  10.88M  23.5MB/s    in 0.5s    \n",
            "\n",
            "2019-05-31 19:09:23 (23.5 MB/s) - ‘/tmp/WISDM_ar_latest.tar.gz’ saved [11404612/11404612]\n",
            "\n"
          ],
          "name": "stdout"
        }
      ]
    },
    {
      "cell_type": "code",
      "metadata": {
        "id": "NJC2DZ_TiJDm",
        "colab_type": "code",
        "colab": {}
      },
      "source": [
        "import os\n",
        "\n",
        "\n",
        "WISDM_DATASET_DIR = \"/content/wisdm-dataset\"\n",
        "\n",
        "if not os.path.exists(WISDM_DATASET_DIR):\n",
        "  os.makedirs(WISDM_DATASET_DIR)"
      ],
      "execution_count": 0,
      "outputs": []
    },
    {
      "cell_type": "code",
      "metadata": {
        "id": "pXk4W0XfqPYT",
        "colab_type": "code",
        "colab": {}
      },
      "source": [
        "# Clean directory\n",
        "\n",
        "!rm -rf $WISDM_DATASET_DIR\n",
        "!mkdir $WISDM_DATASET_DIR"
      ],
      "execution_count": 0,
      "outputs": []
    },
    {
      "cell_type": "code",
      "metadata": {
        "id": "9tjzc_U-iVt7",
        "colab_type": "code",
        "outputId": "f1aab7dc-464f-436f-9731-0c881a138279",
        "colab": {
          "base_uri": "https://localhost:8080/",
          "height": 126
        }
      },
      "source": [
        "!tar -xzvf /tmp/WISDM_ar_latest.tar.gz -C $WISDM_DATASET_DIR"
      ],
      "execution_count": 6,
      "outputs": [
        {
          "output_type": "stream",
          "text": [
            "WISDM_ar_v1.1/\n",
            "WISDM_ar_v1.1/readme.txt\n",
            "WISDM_ar_v1.1/WISDM_ar_v1.1_raw.txt\n",
            "WISDM_ar_v1.1/WISDM_ar_v1.1_raw_about.txt\n",
            "WISDM_ar_v1.1/WISDM_ar_v1.1_transformed.arff\n",
            "WISDM_ar_v1.1/WISDM_ar_v1.1_trans_about.txt\n"
          ],
          "name": "stdout"
        }
      ]
    },
    {
      "cell_type": "code",
      "metadata": {
        "id": "wiIJhp0Vjaim",
        "colab_type": "code",
        "outputId": "71cf9320-83b5-4941-8f02-44b7263f72ed",
        "colab": {
          "base_uri": "https://localhost:8080/",
          "height": 35
        }
      },
      "source": [
        "!ls $WISDM_DATASET_DIR"
      ],
      "execution_count": 7,
      "outputs": [
        {
          "output_type": "stream",
          "text": [
            "WISDM_ar_v1.1\n"
          ],
          "name": "stdout"
        }
      ]
    },
    {
      "cell_type": "code",
      "metadata": {
        "id": "E3miSi4ksCE0",
        "colab_type": "code",
        "outputId": "7a3706e3-a292-4ad8-f47b-86494a3492a5",
        "colab": {
          "base_uri": "https://localhost:8080/",
          "height": 72
        }
      },
      "source": [
        "!ls \"$WISDM_DATASET_DIR/WISDM_ar_v1.1\""
      ],
      "execution_count": 8,
      "outputs": [
        {
          "output_type": "stream",
          "text": [
            "readme.txt\t\t     WISDM_ar_v1.1_trans_about.txt\n",
            "WISDM_ar_v1.1_raw_about.txt  WISDM_ar_v1.1_transformed.arff\n",
            "WISDM_ar_v1.1_raw.txt\n"
          ],
          "name": "stdout"
        }
      ]
    },
    {
      "cell_type": "code",
      "metadata": {
        "id": "fTrlaMqwj6KE",
        "colab_type": "code",
        "colab": {}
      },
      "source": [
        "!rm -rf /tmp/WISDM_ar_latest.tar.gz"
      ],
      "execution_count": 0,
      "outputs": []
    },
    {
      "cell_type": "markdown",
      "metadata": {
        "id": "XQShqRX0hAPN",
        "colab_type": "text"
      },
      "source": [
        "# Data Ingestion"
      ]
    },
    {
      "cell_type": "code",
      "metadata": {
        "id": "hBaePv8ahAPO",
        "colab_type": "code",
        "colab": {}
      },
      "source": [
        "import os\n",
        "import pandas as pd\n",
        "\n",
        "\n",
        "def read_data(file_path):\n",
        "  file_path = os.path.join(WISDM_DATASET_DIR, \"WISDM_ar_v1.1\", file_path)\n",
        "\n",
        "  column_names = ['user','activity', 'timestamp', 'x', 'y', 'z']\n",
        "  df = pd.read_csv(file_path, header=None, names=column_names)\n",
        "  # Last column has a \";\" character which must be removed ...\n",
        "  df['z'].replace(regex=True, inplace=True, to_replace=';', value='')\n",
        "  \n",
        "  df['x'] = df['x'].astype('float32')\n",
        "  df['y'] = df['y'].astype('float32')\n",
        "  df['z'] = df['z'].astype('float32')\n",
        "  \n",
        "  df = df.round({'x': 4, 'y': 4, 'z': 4})\n",
        "  return df\n",
        "\n",
        "\n",
        "# Load data set containing all the data from csv\n",
        "df = read_data('WISDM_ar_v1.1_raw.txt')"
      ],
      "execution_count": 0,
      "outputs": []
    },
    {
      "cell_type": "code",
      "metadata": {
        "id": "HXdEdrbXsjch",
        "colab_type": "code",
        "outputId": "9902a395-89a6-4619-d789-8827aaf64a29",
        "colab": {
          "base_uri": "https://localhost:8080/",
          "height": 198
        }
      },
      "source": [
        "df.head()"
      ],
      "execution_count": 11,
      "outputs": [
        {
          "output_type": "execute_result",
          "data": {
            "text/html": [
              "<div>\n",
              "<style scoped>\n",
              "    .dataframe tbody tr th:only-of-type {\n",
              "        vertical-align: middle;\n",
              "    }\n",
              "\n",
              "    .dataframe tbody tr th {\n",
              "        vertical-align: top;\n",
              "    }\n",
              "\n",
              "    .dataframe thead th {\n",
              "        text-align: right;\n",
              "    }\n",
              "</style>\n",
              "<table border=\"1\" class=\"dataframe\">\n",
              "  <thead>\n",
              "    <tr style=\"text-align: right;\">\n",
              "      <th></th>\n",
              "      <th>user</th>\n",
              "      <th>activity</th>\n",
              "      <th>timestamp</th>\n",
              "      <th>x</th>\n",
              "      <th>y</th>\n",
              "      <th>z</th>\n",
              "    </tr>\n",
              "  </thead>\n",
              "  <tbody>\n",
              "    <tr>\n",
              "      <th>0</th>\n",
              "      <td>33</td>\n",
              "      <td>Jogging</td>\n",
              "      <td>49105962326000</td>\n",
              "      <td>-0.6946</td>\n",
              "      <td>12.680500</td>\n",
              "      <td>0.5040</td>\n",
              "    </tr>\n",
              "    <tr>\n",
              "      <th>1</th>\n",
              "      <td>33</td>\n",
              "      <td>Jogging</td>\n",
              "      <td>49106062271000</td>\n",
              "      <td>5.0123</td>\n",
              "      <td>11.264000</td>\n",
              "      <td>0.9534</td>\n",
              "    </tr>\n",
              "    <tr>\n",
              "      <th>2</th>\n",
              "      <td>33</td>\n",
              "      <td>Jogging</td>\n",
              "      <td>49106112167000</td>\n",
              "      <td>4.9033</td>\n",
              "      <td>10.882700</td>\n",
              "      <td>-0.0817</td>\n",
              "    </tr>\n",
              "    <tr>\n",
              "      <th>3</th>\n",
              "      <td>33</td>\n",
              "      <td>Jogging</td>\n",
              "      <td>49106222305000</td>\n",
              "      <td>-0.6129</td>\n",
              "      <td>18.496401</td>\n",
              "      <td>3.0237</td>\n",
              "    </tr>\n",
              "    <tr>\n",
              "      <th>4</th>\n",
              "      <td>33</td>\n",
              "      <td>Jogging</td>\n",
              "      <td>49106332290000</td>\n",
              "      <td>-1.1850</td>\n",
              "      <td>12.108500</td>\n",
              "      <td>7.2052</td>\n",
              "    </tr>\n",
              "  </tbody>\n",
              "</table>\n",
              "</div>"
            ],
            "text/plain": [
              "   user activity       timestamp       x          y       z\n",
              "0    33  Jogging  49105962326000 -0.6946  12.680500  0.5040\n",
              "1    33  Jogging  49106062271000  5.0123  11.264000  0.9534\n",
              "2    33  Jogging  49106112167000  4.9033  10.882700 -0.0817\n",
              "3    33  Jogging  49106222305000 -0.6129  18.496401  3.0237\n",
              "4    33  Jogging  49106332290000 -1.1850  12.108500  7.2052"
            ]
          },
          "metadata": {
            "tags": []
          },
          "execution_count": 11
        }
      ]
    },
    {
      "cell_type": "code",
      "metadata": {
        "id": "ogY5vuAdyCdT",
        "colab_type": "code",
        "outputId": "2e1e976b-57ad-465f-9741-930d89357142",
        "colab": {
          "base_uri": "https://localhost:8080/",
          "height": 35
        }
      },
      "source": [
        "len(df)"
      ],
      "execution_count": 12,
      "outputs": [
        {
          "output_type": "execute_result",
          "data": {
            "text/plain": [
              "1098204"
            ]
          },
          "metadata": {
            "tags": []
          },
          "execution_count": 12
        }
      ]
    },
    {
      "cell_type": "code",
      "metadata": {
        "id": "jkun5tg5jC_o",
        "colab_type": "code",
        "outputId": "761fb1ad-bf01-4c56-fd22-3edadb6147d9",
        "colab": {
          "base_uri": "https://localhost:8080/",
          "height": 35
        }
      },
      "source": [
        "# This is very important otherwise the model will not fit and loss\n",
        "# will show up as NAN\n",
        "df.dropna(axis=0, how='any', inplace=True)\n",
        "len(df)"
      ],
      "execution_count": 13,
      "outputs": [
        {
          "output_type": "execute_result",
          "data": {
            "text/plain": [
              "1098203"
            ]
          },
          "metadata": {
            "tags": []
          },
          "execution_count": 13
        }
      ]
    },
    {
      "cell_type": "markdown",
      "metadata": {
        "id": "7ZXbnJ5UszRj",
        "colab_type": "text"
      },
      "source": [
        "## Label Encoding"
      ]
    },
    {
      "cell_type": "code",
      "metadata": {
        "id": "EEc-Q-fysyQU",
        "colab_type": "code",
        "colab": {}
      },
      "source": [
        "ACTIVITY_LABELS = [\n",
        "    'Walking',\n",
        "    'Upstairs',\n",
        "    'Downstairs',\n",
        "    'Sitting',\n",
        "    'Standing',\n",
        "    'Jogging',\n",
        "]\n",
        "\n",
        "df['label'] = -1\n",
        "\n",
        "for i, label in enumerate(ACTIVITY_LABELS):\n",
        "  df.loc[df['activity'] == label, 'label'] = i"
      ],
      "execution_count": 0,
      "outputs": []
    },
    {
      "cell_type": "code",
      "metadata": {
        "id": "5eFGIl8gjbXo",
        "colab_type": "code",
        "outputId": "0bd9aae5-76f4-4cbc-a64e-65e70973ff0e",
        "colab": {
          "base_uri": "https://localhost:8080/",
          "height": 34
        }
      },
      "source": [
        "df['label'].unique()"
      ],
      "execution_count": 0,
      "outputs": [
        {
          "output_type": "execute_result",
          "data": {
            "text/plain": [
              "array([5, 0, 1, 2, 3, 4])"
            ]
          },
          "metadata": {
            "tags": []
          },
          "execution_count": 19
        }
      ]
    },
    {
      "cell_type": "markdown",
      "metadata": {
        "id": "ynq_kZp6yMaW",
        "colab_type": "text"
      },
      "source": [
        "## Data Preperations"
      ]
    },
    {
      "cell_type": "code",
      "metadata": {
        "id": "gHsj1RYryiKH",
        "colab_type": "code",
        "colab": {}
      },
      "source": [
        "SAMPLE_SIZE = 80\n",
        "NUM_SENSORS = 3\n",
        "STRIDE = SAMPLE_SIZE // 2\n",
        "\n",
        "NUM_CLASSES = len(ACTIVITY_LABELS)"
      ],
      "execution_count": 0,
      "outputs": []
    },
    {
      "cell_type": "code",
      "metadata": {
        "id": "Vz-2fb93tVsL",
        "colab_type": "code",
        "colab": {}
      },
      "source": [
        "from scipy import stats\n",
        "\n",
        "\n",
        "def create_segments_and_labels(df, sample_size, stride):\n",
        "    segments = []\n",
        "    labels = []\n",
        "    for i in range(0, len(df) - sample_size, stride):\n",
        "        xs = df['x'].values[i:i + sample_size]\n",
        "        ys = df['y'].values[i:i + sample_size]\n",
        "        zs = df['z'].values[i:i + sample_size]\n",
        "\n",
        "        # Retrieve the most often used label in this segment\n",
        "        label = stats.mode(df['label'][i: i + sample_size])[0][0]\n",
        "        segments.append([xs, ys, zs])\n",
        "        labels.append(label)\n",
        "\n",
        "    # Bring the segments into a better shape\n",
        "    reshaped_segments = np.asarray(segments).reshape(-1, sample_size, 3)\n",
        "    labels = np.asarray(labels)\n",
        "\n",
        "    return reshaped_segments, labels\n",
        "\n",
        "  \n",
        "X, y = create_segments_and_labels(df, SAMPLE_SIZE, STRIDE)"
      ],
      "execution_count": 0,
      "outputs": []
    },
    {
      "cell_type": "code",
      "metadata": {
        "id": "bVoLqXMCzBEm",
        "colab_type": "code",
        "outputId": "f59c1a1e-60ad-4897-8934-d03c93e2ed1a",
        "colab": {
          "base_uri": "https://localhost:8080/",
          "height": 34
        }
      },
      "source": [
        "X.shape"
      ],
      "execution_count": 0,
      "outputs": [
        {
          "output_type": "execute_result",
          "data": {
            "text/plain": [
              "(27454, 80, 3)"
            ]
          },
          "metadata": {
            "tags": []
          },
          "execution_count": 56
        }
      ]
    },
    {
      "cell_type": "markdown",
      "metadata": {
        "id": "29Ydt11VjlIl",
        "colab_type": "text"
      },
      "source": [
        "# Data Analysis"
      ]
    },
    {
      "cell_type": "code",
      "metadata": {
        "id": "2p9mH0Qcjlii",
        "colab_type": "code",
        "colab": {}
      },
      "source": [
        "class_0 = np.argwhere(y == 0).flatten()\n",
        "class_1 = np.argwhere(y == 1).flatten()\n",
        "class_2 = np.argwhere(y == 2).flatten()\n",
        "class_3 = np.argwhere(y == 3).flatten()\n",
        "class_4 = np.argwhere(y == 4).flatten()\n",
        "class_5 = np.argwhere(y == 5).flatten()"
      ],
      "execution_count": 0,
      "outputs": []
    },
    {
      "cell_type": "code",
      "metadata": {
        "id": "A1dobkCTjnuc",
        "colab_type": "code",
        "outputId": "e88bdc1c-de0d-4142-ed32-5c8f7b5a49a6",
        "colab": {
          "base_uri": "https://localhost:8080/",
          "height": 286
        }
      },
      "source": [
        "plt.bar(\n",
        "    ACTIVITY_LABELS,\n",
        "    [\n",
        "        len(class_0),\n",
        "        len(class_1),\n",
        "        len(class_2),\n",
        "        len(class_3),\n",
        "        len(class_4),\n",
        "        len(class_5)\n",
        "    ]\n",
        ")"
      ],
      "execution_count": 0,
      "outputs": [
        {
          "output_type": "execute_result",
          "data": {
            "text/plain": [
              "<BarContainer object of 6 artists>"
            ]
          },
          "metadata": {
            "tags": []
          },
          "execution_count": 58
        },
        {
          "output_type": "display_data",
          "data": {
            "image/png": "[encoded data removed]",
            "text/plain": [
              "<Figure size 432x288 with 1 Axes>"
            ]
          },
          "metadata": {
            "tags": []
          }
        }
      ]
    },
    {
      "cell_type": "code",
      "metadata": {
        "id": "LxY9-RWNjzU-",
        "colab_type": "code",
        "colab": {}
      },
      "source": [
        "random.seed(0)\n",
        "\n",
        "random.shuffle(class_0)\n",
        "random.shuffle(class_5)\n",
        "\n",
        "\n",
        "C0 = X[class_0[:4000]]\n",
        "C1 = X[class_1]\n",
        "C2 = X[class_2]\n",
        "C3 = X[class_3]\n",
        "C4 = np.vstack([X[class_4]] * 2)\n",
        "C5 = X[class_5[:4000]]"
      ],
      "execution_count": 0,
      "outputs": []
    },
    {
      "cell_type": "code",
      "metadata": {
        "id": "M9HRZfT-kEit",
        "colab_type": "code",
        "outputId": "a68c2ef8-9ab9-4642-c47c-5d048b0a0655",
        "colab": {
          "base_uri": "https://localhost:8080/",
          "height": 286
        }
      },
      "source": [
        "plt.bar(\n",
        "    ACTIVITY_LABELS,\n",
        "    [\n",
        "        len(C0),\n",
        "        len(C1),\n",
        "        len(C2),\n",
        "        len(C3),\n",
        "        len(C4),\n",
        "        len(C5)\n",
        "    ]\n",
        ")"
      ],
      "execution_count": 0,
      "outputs": [
        {
          "output_type": "execute_result",
          "data": {
            "text/plain": [
              "<BarContainer object of 6 artists>"
            ]
          },
          "metadata": {
            "tags": []
          },
          "execution_count": 71
        },
        {
          "output_type": "display_data",
          "data": {
            "image/png": "[encoded data removed]",
            "text/plain": [
              "<Figure size 432x288 with 1 Axes>"
            ]
          },
          "metadata": {
            "tags": []
          }
        }
      ]
    },
    {
      "cell_type": "code",
      "metadata": {
        "id": "qUS-A4vQkbCI",
        "colab_type": "code",
        "outputId": "ace98933-9fc3-4483-d69f-bd3249ca7e28",
        "colab": {
          "base_uri": "https://localhost:8080/",
          "height": 741
        }
      },
      "source": [
        "all_activities = [C0, C1, C2, C3, C4, C5]\n",
        "\n",
        "\n",
        "fig, axes = plt.subplots(3, 2, figsize=(20, 10))\n",
        "fig.tight_layout()\n",
        "\n",
        "for i, activities in enumerate(all_activities):\n",
        "  mean = activities.mean(axis=0)\n",
        "  \n",
        "  axes[i // 2, i % 2].plot(mean[:,0])\n",
        "  axes[i // 2, i % 2].plot(mean[:,1])\n",
        "  axes[i // 2, i % 2].plot(mean[:,2])\n",
        "  \n",
        "  axes[i // 2, i % 2].set_title(ACTIVITY_LABELS[i])"
      ],
      "execution_count": 0,
      "outputs": [
        {
          "output_type": "display_data",
          "data": {
            "image/png": "[encoded data removed]",
            "text/plain": [
              "<Figure size 1440x720 with 6 Axes>"
            ]
          },
          "metadata": {
            "tags": []
          }
        }
      ]
    },
    {
      "cell_type": "code",
      "metadata": {
        "id": "JEI516POksNp",
        "colab_type": "code",
        "colab": {}
      },
      "source": [
        "X_n = np.vstack([C0, C1, C2, C3, C4, C5])\n",
        "y_n = np.concatenate([\n",
        "    [0] * C0.shape[0],\n",
        "    [1] * C1.shape[0],\n",
        "    [2] * C2.shape[0],\n",
        "    [3] * C3.shape[0],\n",
        "    [4] * C4.shape[0],\n",
        "    [5] * C5.shape[0],\n",
        "])"
      ],
      "execution_count": 0,
      "outputs": []
    },
    {
      "cell_type": "code",
      "metadata": {
        "id": "U8BzvfYfkt3R",
        "colab_type": "code",
        "outputId": "9d98c01f-f36c-496c-988d-dd1b523c5df2",
        "colab": {
          "base_uri": "https://localhost:8080/",
          "height": 34
        }
      },
      "source": [
        "len(X_n), len(y_n)"
      ],
      "execution_count": 0,
      "outputs": [
        {
          "output_type": "execute_result",
          "data": {
            "text/plain": [
              "(21412, 21412)"
            ]
          },
          "metadata": {
            "tags": []
          },
          "execution_count": 74
        }
      ]
    },
    {
      "cell_type": "markdown",
      "metadata": {
        "id": "_dzyNcZvkwkC",
        "colab_type": "text"
      },
      "source": [
        "# Data Split"
      ]
    },
    {
      "cell_type": "code",
      "metadata": {
        "id": "YPrCtD6Gkxm_",
        "colab_type": "code",
        "colab": {}
      },
      "source": [
        "class_0 = np.argwhere(y_n == 0).flatten()\n",
        "class_1 = np.argwhere(y_n == 1).flatten()\n",
        "class_2 = np.argwhere(y_n == 2).flatten()\n",
        "class_3 = np.argwhere(y_n == 3).flatten()\n",
        "class_4 = np.argwhere(y_n == 4).flatten()\n",
        "class_5 = np.argwhere(y_n == 5).flatten()"
      ],
      "execution_count": 0,
      "outputs": []
    },
    {
      "cell_type": "code",
      "metadata": {
        "id": "kPvHJ9Q9kyf9",
        "colab_type": "code",
        "outputId": "7ba69f45-6b9b-41ea-8a96-f275ba2f7185",
        "colab": {
          "base_uri": "https://localhost:8080/",
          "height": 51
        }
      },
      "source": [
        "print(\"Total Records:\", X_n.shape[0])\n",
        "\n",
        "class_sample_size = int(X_n.shape[0] * 0.1 / 6)\n",
        "print(\"Test Sample:\", class_sample_size * 6)"
      ],
      "execution_count": 0,
      "outputs": [
        {
          "output_type": "stream",
          "text": [
            "Total Records: 21412\n",
            "Test Sample: 2136\n"
          ],
          "name": "stdout"
        }
      ]
    },
    {
      "cell_type": "code",
      "metadata": {
        "id": "cOMUAAzik0EZ",
        "colab_type": "code",
        "colab": {}
      },
      "source": [
        "random.seed(0)\n",
        "\n",
        "random.shuffle(class_0)\n",
        "random.shuffle(class_1)\n",
        "random.shuffle(class_2)\n",
        "random.shuffle(class_3)\n",
        "random.shuffle(class_4)\n",
        "random.shuffle(class_5)\n",
        "\n",
        "\n",
        "sub0 = class_0[:class_sample_size]\n",
        "sub1 = class_1[:class_sample_size]\n",
        "sub2 = class_2[:class_sample_size]\n",
        "sub3 = class_3[:class_sample_size]\n",
        "sub4 = class_4[:class_sample_size]\n",
        "sub5 = class_5[:class_sample_size]"
      ],
      "execution_count": 0,
      "outputs": []
    },
    {
      "cell_type": "code",
      "metadata": {
        "id": "Sj7NgqSIk1xr",
        "colab_type": "code",
        "outputId": "59023f2b-5b85-4387-ed25-066734d2c2f4",
        "colab": {
          "base_uri": "https://localhost:8080/",
          "height": 34
        }
      },
      "source": [
        "X_test = np.concatenate([\n",
        "    X_n[sub0], X_n[sub1], X_n[sub2], X_n[sub3], X_n[sub4], X_n[sub5]\n",
        "])\n",
        "X_test.shape"
      ],
      "execution_count": 0,
      "outputs": [
        {
          "output_type": "execute_result",
          "data": {
            "text/plain": [
              "(2136, 80, 3)"
            ]
          },
          "metadata": {
            "tags": []
          },
          "execution_count": 86
        }
      ]
    },
    {
      "cell_type": "code",
      "metadata": {
        "id": "1rspp_dgk4dp",
        "colab_type": "code",
        "outputId": "99595d4f-ad85-4d4b-c907-c7894f45c643",
        "colab": {
          "base_uri": "https://localhost:8080/",
          "height": 34
        }
      },
      "source": [
        "y_test = np.hstack([\n",
        "    y_n[sub0], y_n[sub1], y_n[sub2], y_n[sub3], y_n[sub4], y_n[sub5]\n",
        "])\n",
        "y_test.shape"
      ],
      "execution_count": 0,
      "outputs": [
        {
          "output_type": "execute_result",
          "data": {
            "text/plain": [
              "(2136,)"
            ]
          },
          "metadata": {
            "tags": []
          },
          "execution_count": 87
        }
      ]
    },
    {
      "cell_type": "code",
      "metadata": {
        "id": "epmCJ2sxopJW",
        "colab_type": "code",
        "outputId": "6974bccd-e7bc-4d10-fe5f-fc01bb4f6c65",
        "colab": {
          "base_uri": "https://localhost:8080/",
          "height": 34
        }
      },
      "source": [
        "X_train = np.delete(X_n, [sub0, sub1, sub2, sub3, sub4, sub5], axis=0)\n",
        "y_train = np.delete(y_n, [sub0, sub1, sub2, sub3, sub4, sub5], axis=0)\n",
        "X_train.shape"
      ],
      "execution_count": 0,
      "outputs": [
        {
          "output_type": "execute_result",
          "data": {
            "text/plain": [
              "(19276, 80, 3)"
            ]
          },
          "metadata": {
            "tags": []
          },
          "execution_count": 88
        }
      ]
    },
    {
      "cell_type": "code",
      "metadata": {
        "id": "x1z9a1-zpDet",
        "colab_type": "code",
        "outputId": "6421dd6f-0312-44f2-d24e-61ac96654ed6",
        "colab": {
          "base_uri": "https://localhost:8080/",
          "height": 85
        }
      },
      "source": [
        "print(\"X_train:\", X_train.shape)\n",
        "print(\"y_train:\", y_train.shape)\n",
        "\n",
        "print(\"X_test:\", X_test.shape)\n",
        "print(\"y_test:\", y_test.shape)"
      ],
      "execution_count": 0,
      "outputs": [
        {
          "output_type": "stream",
          "text": [
            "X_train: (19276, 80, 3)\n",
            "y_train: (19276,)\n",
            "X_test: (2136, 80, 3)\n",
            "y_test: (2136,)\n"
          ],
          "name": "stdout"
        }
      ]
    },
    {
      "cell_type": "code",
      "metadata": {
        "id": "OWVLxPLGpFNg",
        "colab_type": "code",
        "colab": {}
      },
      "source": [
        "from sklearn.utils import shuffle\n",
        "\n",
        "X_train, y_train = shuffle(X_train, y_train, random_state=0)\n",
        "X_test, y_test = shuffle(X_test, y_test, random_state=0)"
      ],
      "execution_count": 0,
      "outputs": []
    },
    {
      "cell_type": "markdown",
      "metadata": {
        "id": "afNjxgaxhAU1",
        "colab_type": "text"
      },
      "source": [
        "# Training\n"
      ]
    },
    {
      "cell_type": "markdown",
      "metadata": {
        "id": "wCWH3stlz2Wy",
        "colab_type": "text"
      },
      "source": [
        "## Encoding"
      ]
    },
    {
      "cell_type": "code",
      "metadata": {
        "id": "AZ_fd7ahz38-",
        "colab_type": "code",
        "outputId": "92521b57-2c34-4207-c8aa-6cf695b39403",
        "colab": {
          "base_uri": "https://localhost:8080/",
          "height": 34
        }
      },
      "source": [
        "from keras.utils import np_utils\n",
        "\n",
        "\n",
        "y_test_hot = np_utils.to_categorical(y_test, NUM_CLASSES)\n",
        "y_train_hot = np_utils.to_categorical(y_train, NUM_CLASSES)"
      ],
      "execution_count": 0,
      "outputs": [
        {
          "output_type": "stream",
          "text": [
            "Using TensorFlow backend.\n"
          ],
          "name": "stderr"
        }
      ]
    },
    {
      "cell_type": "markdown",
      "metadata": {
        "id": "-aVLDSV4z4iu",
        "colab_type": "text"
      },
      "source": [
        "## Build Model"
      ]
    },
    {
      "cell_type": "code",
      "metadata": {
        "id": "baOUsUyDuTdK",
        "colab_type": "code",
        "outputId": "f038e726-e59f-4fc5-8c6a-0f24d7ca0896",
        "colab": {
          "base_uri": "https://localhost:8080/",
          "height": 343
        }
      },
      "source": [
        "from keras import backend as K\n",
        "from keras.models import Sequential\n",
        "from keras.optimizers import Adam\n",
        "from keras.layers import (\n",
        "    Conv1D, MaxPooling1D, GlobalAveragePooling1D,\n",
        "    Dense, Dropout, Activation, Flatten,\n",
        ")\n",
        "\n",
        "K.clear_session()\n",
        "\n",
        "model = Sequential()\n",
        "\n",
        "model.add(Flatten(input_shape=(SAMPLE_SIZE, NUM_SENSORS)))\n",
        "model.add(Dense(256, activation='relu'))\n",
        "model.add(Dense(128, activation='relu'))\n",
        "model.add(Dense(NUM_CLASSES, activation='softmax'))\n",
        "\n",
        "model.compile(\n",
        "    loss='categorical_crossentropy',\n",
        "    optimizer='adam',\n",
        "    metrics=['accuracy']\n",
        ")\n",
        "\n",
        "model.summary()"
      ],
      "execution_count": 0,
      "outputs": [
        {
          "output_type": "stream",
          "text": [
            "WARNING:tensorflow:From /usr/local/lib/python3.6/dist-packages/tensorflow/python/framework/op_def_library.py:263: colocate_with (from tensorflow.python.framework.ops) is deprecated and will be removed in a future version.\n",
            "Instructions for updating:\n",
            "Colocations handled automatically by placer.\n",
            "_________________________________________________________________\n",
            "Layer (type)                 Output Shape              Param #   \n",
            "=================================================================\n",
            "flatten_1 (Flatten)          (None, 240)               0         \n",
            "_________________________________________________________________\n",
            "dense_1 (Dense)              (None, 256)               61696     \n",
            "_________________________________________________________________\n",
            "dense_2 (Dense)              (None, 128)               32896     \n",
            "_________________________________________________________________\n",
            "dense_3 (Dense)              (None, 6)                 774       \n",
            "=================================================================\n",
            "Total params: 95,366\n",
            "Trainable params: 95,366\n",
            "Non-trainable params: 0\n",
            "_________________________________________________________________\n"
          ],
          "name": "stdout"
        }
      ]
    },
    {
      "cell_type": "code",
      "metadata": {
        "id": "tAdYUc5QKOg8",
        "colab_type": "code",
        "outputId": "5bfb7143-883a-4f6d-c200-8806c10f113a",
        "colab": {
          "base_uri": "https://localhost:8080/",
          "height": 1105
        }
      },
      "source": [
        "model.fit(\n",
        "    x=X_train,\n",
        "    y=y_train_hot,\n",
        "    batch_size=32,\n",
        "    epochs=30,\n",
        "    verbose=2\n",
        ")"
      ],
      "execution_count": 0,
      "outputs": [
        {
          "output_type": "stream",
          "text": [
            "WARNING:tensorflow:From /usr/local/lib/python3.6/dist-packages/tensorflow/python/ops/math_ops.py:3066: to_int32 (from tensorflow.python.ops.math_ops) is deprecated and will be removed in a future version.\n",
            "Instructions for updating:\n",
            "Use tf.cast instead.\n",
            "Epoch 1/30\n",
            " - 3s - loss: 1.4628 - acc: 0.5023\n",
            "Epoch 2/30\n",
            " - 2s - loss: 0.8521 - acc: 0.6933\n",
            "Epoch 3/30\n",
            " - 2s - loss: 0.6477 - acc: 0.7684\n",
            "Epoch 4/30\n",
            " - 2s - loss: 0.5445 - acc: 0.8064\n",
            "Epoch 5/30\n",
            " - 2s - loss: 0.4471 - acc: 0.8437\n",
            "Epoch 6/30\n",
            " - 2s - loss: 0.3906 - acc: 0.8654\n",
            "Epoch 7/30\n",
            " - 2s - loss: 0.3379 - acc: 0.8851\n",
            "Epoch 8/30\n",
            " - 2s - loss: 0.3192 - acc: 0.8927\n",
            "Epoch 9/30\n",
            " - 2s - loss: 0.2678 - acc: 0.9101\n",
            "Epoch 10/30\n",
            " - 2s - loss: 0.2522 - acc: 0.9160\n",
            "Epoch 11/30\n",
            " - 2s - loss: 0.2398 - acc: 0.9213\n",
            "Epoch 12/30\n",
            " - 2s - loss: 0.2149 - acc: 0.9343\n",
            "Epoch 13/30\n",
            " - 2s - loss: 0.2172 - acc: 0.9308\n",
            "Epoch 14/30\n",
            " - 2s - loss: 0.1873 - acc: 0.9394\n",
            "Epoch 15/30\n",
            " - 2s - loss: 0.1853 - acc: 0.9430\n",
            "Epoch 16/30\n",
            " - 2s - loss: 0.1965 - acc: 0.9407\n",
            "Epoch 17/30\n",
            " - 2s - loss: 0.1771 - acc: 0.9435\n",
            "Epoch 18/30\n",
            " - 2s - loss: 0.1419 - acc: 0.9556\n",
            "Epoch 19/30\n",
            " - 2s - loss: 0.1642 - acc: 0.9527\n",
            "Epoch 20/30\n",
            " - 2s - loss: 0.1392 - acc: 0.9577\n",
            "Epoch 21/30\n",
            " - 2s - loss: 0.1650 - acc: 0.9526\n",
            "Epoch 22/30\n",
            " - 2s - loss: 0.1414 - acc: 0.9564\n",
            "Epoch 23/30\n",
            " - 2s - loss: 0.1705 - acc: 0.9552\n",
            "Epoch 24/30\n",
            " - 2s - loss: 0.1312 - acc: 0.9628\n",
            "Epoch 25/30\n",
            " - 2s - loss: 0.1323 - acc: 0.9617\n",
            "Epoch 26/30\n",
            " - 2s - loss: 0.1482 - acc: 0.9585\n",
            "Epoch 27/30\n",
            " - 2s - loss: 0.1407 - acc: 0.9611\n",
            "Epoch 28/30\n",
            " - 2s - loss: 0.1292 - acc: 0.9658\n",
            "Epoch 29/30\n",
            " - 2s - loss: 0.1275 - acc: 0.9635\n",
            "Epoch 30/30\n",
            " - 2s - loss: 0.1257 - acc: 0.9680\n"
          ],
          "name": "stdout"
        },
        {
          "output_type": "execute_result",
          "data": {
            "text/plain": [
              "<keras.callbacks.History at 0x7f81ce44cc50>"
            ]
          },
          "metadata": {
            "tags": []
          },
          "execution_count": 93
        }
      ]
    },
    {
      "cell_type": "code",
      "metadata": {
        "id": "S-dNPhnPhAWH",
        "colab_type": "code",
        "outputId": "fe268378-80a6-4a90-9625-41e8c504ad4e",
        "colab": {
          "base_uri": "https://localhost:8080/",
          "height": 34
        }
      },
      "source": [
        "model.evaluate(x=X_test, y=y_test_hot, batch_size=16, verbose=2) #loss and accuracy"
      ],
      "execution_count": 0,
      "outputs": [
        {
          "output_type": "execute_result",
          "data": {
            "text/plain": [
              "[1.357151055687599, 0.8033707865168539]"
            ]
          },
          "metadata": {
            "tags": []
          },
          "execution_count": 95
        }
      ]
    },
    {
      "cell_type": "code",
      "metadata": {
        "id": "EMB9eKL5u3GL",
        "colab_type": "code",
        "outputId": "7bf0a8dc-0f41-4934-ec0c-fe410892ba59",
        "colab": {
          "base_uri": "https://localhost:8080/",
          "height": 238
        }
      },
      "source": [
        "from sklearn.metrics import classification_report\n",
        "\n",
        "\n",
        "y_pred_train = model.predict(X_train)\n",
        "max_y_pred_train = np.argmax(y_pred_train, axis=1)\n",
        "print(classification_report(y_train, max_y_pred_train))"
      ],
      "execution_count": 0,
      "outputs": [
        {
          "output_type": "stream",
          "text": [
            "              precision    recall  f1-score   support\n",
            "\n",
            "           0       0.93      0.99      0.96      3644\n",
            "           1       0.98      0.94      0.96      2719\n",
            "           2       0.99      0.90      0.95      2151\n",
            "           3       0.96      0.94      0.95      2638\n",
            "           4       0.95      0.98      0.97      4480\n",
            "           5       0.96      0.96      0.96      3644\n",
            "\n",
            "   micro avg       0.96      0.96      0.96     19276\n",
            "   macro avg       0.96      0.95      0.96     19276\n",
            "weighted avg       0.96      0.96      0.96     19276\n",
            "\n"
          ],
          "name": "stdout"
        }
      ]
    },
    {
      "cell_type": "code",
      "metadata": {
        "id": "2JtuXrpgvBoo",
        "colab_type": "code",
        "outputId": "920cb86a-5dda-41d0-b85d-9d63afdab90b",
        "colab": {
          "base_uri": "https://localhost:8080/",
          "height": 238
        }
      },
      "source": [
        "from sklearn.metrics import classification_report\n",
        "\n",
        "\n",
        "y_pred_test = model.predict(X_test)\n",
        "max_y_pred_test = np.argmax(y_pred_test, axis=1)\n",
        "print(classification_report(y_test, max_y_pred_test))"
      ],
      "execution_count": 0,
      "outputs": [
        {
          "output_type": "stream",
          "text": [
            "              precision    recall  f1-score   support\n",
            "\n",
            "           0       0.71      0.87      0.78       356\n",
            "           1       0.81      0.69      0.75       356\n",
            "           2       0.85      0.65      0.73       356\n",
            "           3       0.80      0.78      0.79       356\n",
            "           4       0.86      0.98      0.92       356\n",
            "           5       0.81      0.85      0.83       356\n",
            "\n",
            "   micro avg       0.80      0.80      0.80      2136\n",
            "   macro avg       0.81      0.80      0.80      2136\n",
            "weighted avg       0.81      0.80      0.80      2136\n",
            "\n"
          ],
          "name": "stdout"
        }
      ]
    },
    {
      "cell_type": "markdown",
      "metadata": {
        "id": "IB200zPAt_hB",
        "colab_type": "text"
      },
      "source": [
        "# Real-world Dataset"
      ]
    },
    {
      "cell_type": "markdown",
      "metadata": {
        "id": "HU4B-NekueF2",
        "colab_type": "text"
      },
      "source": [
        "## Download from Drive"
      ]
    },
    {
      "cell_type": "code",
      "metadata": {
        "id": "kVKI0QigukRC",
        "colab_type": "code",
        "colab": {}
      },
      "source": [
        "from google.colab import auth\n",
        "\n",
        "auth.authenticate_user()"
      ],
      "execution_count": 0,
      "outputs": []
    },
    {
      "cell_type": "code",
      "metadata": {
        "id": "nyN2DsoKuoB3",
        "colab_type": "code",
        "colab": {}
      },
      "source": [
        "from googleapiclient.discovery import build\n",
        "\n",
        "drive_service = build('drive', 'v3')\n",
        "del build"
      ],
      "execution_count": 0,
      "outputs": []
    },
    {
      "cell_type": "code",
      "metadata": {
        "id": "Yy9I4emNuAts",
        "colab_type": "code",
        "outputId": "dfa94c13-adfb-44ff-cccd-46763d87ed18",
        "colab": {
          "base_uri": "https://localhost:8080/",
          "height": 51
        }
      },
      "source": [
        "import tqdm\n",
        "from googleapiclient.http import MediaIoBaseDownload\n",
        "\n",
        "\n",
        "SELF_DATASET_DIR = \"/content/har-self-dataset\"\n",
        "\n",
        "\n",
        "if not os.path.exists(SELF_DATASET_DIR):\n",
        "  os.makedirs(SELF_DATASET_DIR)\n",
        "\n",
        "  \n",
        "def download_file(file_id, output_filename):\n",
        "  request = drive_service.files().get_media(fileId=file_id)\n",
        "  \n",
        "  with open(os.path.join(SELF_DATASET_DIR, output_filename), \"wb\") as f:\n",
        "    downloader = MediaIoBaseDownload(f, request)\n",
        "    pbar = tqdm.tqdm(total=100, desc=output_filename)\n",
        "  \n",
        "    done = False\n",
        "    while done is False:\n",
        "      status, done = downloader.next_chunk()\n",
        "      pbar.update(max(100, status.progress() * 100))\n",
        "\n",
        "\n",
        "DATASET_FILES = [\n",
        "    (\"1i6XT0_5lWgryREwahtf1yjIaAM_BTLF9\", \"recording_1.csv\"),\n",
        "    (\"1ZpadESchBbvA3KUkR-gG61wSfbn2UE89\", \"recording_2.csv\")\n",
        "]\n",
        "\n",
        "\n",
        "for file_id, file_name in DATASET_FILES:\n",
        "    download_file(file_id, file_name)\n"
      ],
      "execution_count": 0,
      "outputs": [
        {
          "output_type": "stream",
          "text": [
            "recording_1.csv: 100%|██████████| 100/100 [00:00<00:00, 204.18it/s]\n",
            "recording_2.csv: 100%|██████████| 100/100 [00:01<00:00, 96.61it/s]\n"
          ],
          "name": "stderr"
        }
      ]
    },
    {
      "cell_type": "code",
      "metadata": {
        "id": "jJW6pdx-vCRg",
        "colab_type": "code",
        "outputId": "1a2b1f73-9a64-4eb4-d822-8d6ecdd45d4d",
        "colab": {
          "base_uri": "https://localhost:8080/",
          "height": 34
        }
      },
      "source": [
        "!ls $SELF_DATASET_DIR"
      ],
      "execution_count": 0,
      "outputs": [
        {
          "output_type": "stream",
          "text": [
            "recording_1.csv  recording_2.csv  recording_3.csv\n"
          ],
          "name": "stdout"
        }
      ]
    },
    {
      "cell_type": "markdown",
      "metadata": {
        "id": "62ysONcmpoSr",
        "colab_type": "text"
      },
      "source": [
        "## Evaluate"
      ]
    },
    {
      "cell_type": "code",
      "metadata": {
        "id": "3PHGzzz6vg8E",
        "colab_type": "code",
        "colab": {}
      },
      "source": [
        "import pandas as pd\n",
        "\n",
        "\n",
        "def load_recording(filename):\n",
        "  df = pd.read_csv(os.path.join(SELF_DATASET_DIR, filename))\n",
        "  return df.values\n",
        "\n",
        "  \n",
        "r = load_recording('recording_2.csv')"
      ],
      "execution_count": 0,
      "outputs": []
    },
    {
      "cell_type": "code",
      "metadata": {
        "id": "Hk5xXumWwXUg",
        "colab_type": "code",
        "colab": {}
      },
      "source": [
        "r1 = r[:,:3]"
      ],
      "execution_count": 0,
      "outputs": []
    },
    {
      "cell_type": "code",
      "metadata": {
        "id": "NR1jhhchwL1T",
        "colab_type": "code",
        "outputId": "8263e163-0727-4d27-fab9-e05402d8aca5",
        "colab": {
          "base_uri": "https://localhost:8080/",
          "height": 34
        }
      },
      "source": [
        "def conv_recording(values, stride=None, sample_size=SAMPLE_SIZE):\n",
        "  layers = []\n",
        "  if stride is None:\n",
        "    stride = sample_size // 2\n",
        "  \n",
        "  i = sample_size\n",
        "  while i < values.shape[0]:\n",
        "    layers.append(values[i - sample_size:i])\n",
        "    i += stride\n",
        "\n",
        "  return np.array(layers)\n",
        "\n",
        "\n",
        "r_batches = conv_recording(r1)\n",
        "r_batches.shape"
      ],
      "execution_count": 0,
      "outputs": [
        {
          "output_type": "execute_result",
          "data": {
            "text/plain": [
              "(393, 80, 3)"
            ]
          },
          "metadata": {
            "tags": []
          },
          "execution_count": 111
        }
      ]
    },
    {
      "cell_type": "code",
      "metadata": {
        "id": "TZxOZ8KK40p-",
        "colab_type": "code",
        "colab": {}
      },
      "source": [
        "def assign_labels(predictions):\n",
        "  return np.array([\n",
        "      ACTIVITY_LABELS[class_]\n",
        "      for class_ in np.argmax(predictions, axis=1)\n",
        "  ])"
      ],
      "execution_count": 0,
      "outputs": []
    },
    {
      "cell_type": "code",
      "metadata": {
        "id": "eGhudegSwoR5",
        "colab_type": "code",
        "colab": {}
      },
      "source": [
        "assign_labels(model.predict(r_batches))"
      ],
      "execution_count": 0,
      "outputs": []
    },
    {
      "cell_type": "code",
      "metadata": {
        "id": "VxTVXnbd0NFe",
        "colab_type": "code",
        "outputId": "bb6d8ace-4b25-4f1d-ac10-f241b7366d55",
        "colab": {
          "base_uri": "https://localhost:8080/",
          "height": 51
        }
      },
      "source": [
        "import keras\n",
        "from datetime import datetime\n",
        "import tensorflow as tf\n",
        "\n",
        "version = datetime.now().isoformat()\n",
        "keras_file = \"model_wisdm_{}.h5\".format(version)\n",
        "tflite_file = \"model_wisdm_{}.tflite\".format(version)\n",
        "\n",
        "keras.models.save_model(model, keras_file)\n",
        "\n",
        "converter = tf.lite.TFLiteConverter.from_keras_model_file(keras_file)\n",
        "tflite_model = converter.convert()\n",
        "\n",
        "with open(tflite_file, \"wb\") as f:\n",
        "  f.write(tflite_model)"
      ],
      "execution_count": 0,
      "outputs": [
        {
          "output_type": "stream",
          "text": [
            "INFO:tensorflow:Froze 6 variables.\n",
            "INFO:tensorflow:Converted 6 variables to const ops.\n"
          ],
          "name": "stdout"
        }
      ]
    },
    {
      "cell_type": "code",
      "metadata": {
        "id": "ZPyv0oQ85RI6",
        "colab_type": "code",
        "outputId": "d8816729-1ab8-4cae-b13b-55c694a48f51",
        "colab": {
          "base_uri": "https://localhost:8080/",
          "height": 34
        }
      },
      "source": [
        "from googleapiclient.http import MediaFileUpload\n",
        "\n",
        "file_metadata = {\n",
        "  'name': tflite_file,\n",
        "  'mimeType': 'application/octet-stream'\n",
        "}\n",
        "media = MediaFileUpload(\n",
        "    tflite_file,\n",
        "    mimetype='application/octet-stream',\n",
        "    resumable=True\n",
        ")\n",
        "\n",
        "created = drive_service.files().create(\n",
        "    body=file_metadata,\n",
        "    media_body=media,\n",
        "    fields='id'\n",
        ").execute()\n",
        "\n",
        "print('File ID: {}'.format(created.get('id')))"
      ],
      "execution_count": 0,
      "outputs": [
        {
          "output_type": "stream",
          "text": [
            "File ID: 1p7lgcsuv3hSHulAgM9KsXOFD7-XDNVm6\n"
          ],
          "name": "stdout"
        }
      ]
    },
    {
      "cell_type": "code",
      "metadata": {
        "id": "MxKM_C896Jtt",
        "colab_type": "code",
        "colab": {}
      },
      "source": [
        ""
      ],
      "execution_count": 0,
      "outputs": []
    }
  ]
}